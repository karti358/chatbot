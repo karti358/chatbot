{
  "cells": [
    {
      "cell_type": "code",
      "source": [
        "from google.colab import drive\n",
        "drive.mount('/content/drive', force_remount = True)"
      ],
      "metadata": {
        "colab": {
          "base_uri": "https://localhost:8080/"
        },
        "id": "q7uIcUSa2hry",
        "outputId": "8b55fe77-1f23-452c-8a4e-54f7f85da257"
      },
      "id": "q7uIcUSa2hry",
      "execution_count": 1,
      "outputs": [
        {
          "output_type": "stream",
          "name": "stdout",
          "text": [
            "Mounted at /content/drive\n"
          ]
        }
      ]
    },
    {
      "cell_type": "markdown",
      "source": [
        "Copy code from drive to local folder"
      ],
      "metadata": {
        "id": "XSChWh9BIszu"
      },
      "id": "XSChWh9BIszu"
    },
    {
      "cell_type": "code",
      "source": [
        "!rm -r chatbot\n",
        "!cp -r /content/drive/MyDrive/chatbot /content/chatbot"
      ],
      "metadata": {
        "id": "4HwUImST29vd",
        "colab": {
          "base_uri": "https://localhost:8080/"
        },
        "outputId": "2ace0302-c167-45fd-904d-4a7c77730e83"
      },
      "id": "4HwUImST29vd",
      "execution_count": 2,
      "outputs": [
        {
          "output_type": "stream",
          "name": "stdout",
          "text": [
            "rm: cannot remove 'chatbot': No such file or directory\n"
          ]
        }
      ]
    },
    {
      "cell_type": "markdown",
      "source": [
        "### USING AWS"
      ],
      "metadata": {
        "id": "p5mmpDTRxIsG"
      },
      "id": "p5mmpDTRxIsG"
    },
    {
      "cell_type": "code",
      "source": [
        "# !pip install boto3\n",
        "\n",
        "# import boto3\n",
        "# s3 = boto3.resource(\"s3\", aws_access_key_id = \"\",\n",
        "#                       aws_secret_access_key = \"\")\n",
        "# bucket = s3.Bucket(\"reddit-chatbot-data\")\n",
        "\n",
        "# !rm -r data\n",
        "# !mkdir data\n",
        "# !mkdir data/training_data data/testing_data data/validation_data\n",
        "# bucket_contents = [val.key for val in bucket.objects.all()]\n",
        "# for content in bucket_contents:\n",
        "#   bucket.download_file(content, f\"data/{content}\")"
      ],
      "metadata": {
        "id": "8q9fKnfQ567X"
      },
      "id": "8q9fKnfQ567X",
      "execution_count": 3,
      "outputs": []
    },
    {
      "cell_type": "markdown",
      "source": [
        "### USING AZURE"
      ],
      "metadata": {
        "id": "KBnaAo8lxOvx"
      },
      "id": "KBnaAo8lxOvx"
    },
    {
      "cell_type": "code",
      "source": [
        "import locale\n",
        "def getpreferredencoding(do_setlocale = True):\n",
        "    return \"UTF-8\"\n",
        "locale.getpreferredencoding = getpreferredencoding"
      ],
      "metadata": {
        "id": "vFtKEHIS3-g_"
      },
      "id": "vFtKEHIS3-g_",
      "execution_count": 9,
      "outputs": []
    },
    {
      "cell_type": "code",
      "source": [
        "# !pip install azure-identity azure-storage-blob\n",
        "!pip install load_dotenv\n",
        "\n",
        "!rm -r data\n",
        "!mkdir data data/training_data data/testing_data data/validation_data"
      ],
      "metadata": {
        "colab": {
          "base_uri": "https://localhost:8080/"
        },
        "id": "7eqdi2AzzlyH",
        "outputId": "85de016a-f1f0-401b-d366-14d238e7cd33"
      },
      "id": "7eqdi2AzzlyH",
      "execution_count": 12,
      "outputs": [
        {
          "output_type": "stream",
          "name": "stdout",
          "text": [
            "Requirement already satisfied: load_dotenv in /usr/local/lib/python3.10/dist-packages (0.1.0)\n",
            "Requirement already satisfied: python-dotenv in /usr/local/lib/python3.10/dist-packages (from load_dotenv) (1.0.1)\n"
          ]
        }
      ]
    },
    {
      "cell_type": "code",
      "source": [
        "import os\n",
        "from azure.identity import ClientSecretCredential\n",
        "from azure.storage.blob import BlobServiceClient\n",
        "\n",
        "os.environ.clear()\n",
        "from load_dotenv import load_dotenv\n",
        "load_dotenv(dotenv_path = \"/content/chatbot/.env\")\n",
        "\n",
        "credentials = ClientSecretCredential(\n",
        "    tenant_id = os.environ[\"TENANT_ID\"],\n",
        "    client_id = os.environ[\"CLIENT_ID\"],\n",
        "    client_secret = os.environ[\"CLIENT_SECRET\"],\n",
        ")\n",
        "\n",
        "container_name = \"redditchatbotdata\"\n",
        "blob_service_client = BlobServiceClient(\n",
        "    account_url = os.environ[\"BLOB_URL\"],\n",
        "    credential = credentials\n",
        ")\n",
        "\n",
        "container_client = blob_service_client.get_container_client(\"data\")\n",
        "blob_list = list(container_client.list_blob_names())\n",
        "for blob_name in blob_list:\n",
        "  down_stream = container_client.download_blob(blob_name)\n",
        "  with open(f\"data/{blob_name}\", \"wb\") as f:\n",
        "    f.write(down_stream.readall())"
      ],
      "metadata": {
        "id": "sw-4wWoCV9Ph"
      },
      "id": "sw-4wWoCV9Ph",
      "execution_count": 13,
      "outputs": []
    },
    {
      "cell_type": "code",
      "source": [
        "import torch\n",
        "import torch.nn as nn\n",
        "from torch.optim import Adam\n",
        "\n",
        "from chatbot.nmt.model import NMTEncoder, NMTDecoderLA, BahdanauAttention, NMTModelLA, accuracy, categorical_crossentropy\n",
        "from chatbot.nmt.tokenizer import RegexTokenizer\n",
        "from chatbot.nmt.dataloader import RedditDataset, RedditDataLoader\n",
        "from chatbot.nmt.trainer import Trainer\n"
      ],
      "metadata": {
        "id": "a-u-wT2TyLBI"
      },
      "id": "a-u-wT2TyLBI",
      "execution_count": 14,
      "outputs": []
    },
    {
      "cell_type": "code",
      "execution_count": 15,
      "id": "e86b0f84",
      "metadata": {
        "id": "e86b0f84"
      },
      "outputs": [],
      "source": [
        "tokenizer = RegexTokenizer(vocab_size = 276)\n",
        "tokenizer.load(\"chatbot/models/tokenizer/tok.model\")"
      ]
    },
    {
      "cell_type": "code",
      "execution_count": 16,
      "id": "61e4bd3d",
      "metadata": {
        "id": "61e4bd3d"
      },
      "outputs": [],
      "source": [
        "dataloader = RedditDataLoader(tokenizer = tokenizer,\n",
        "                              filepaths = [\"data/training_data/RC_2017-03.txt\"],\n",
        "                              batch_size = 32,\n",
        "                              sequence_length = 100,\n",
        "                              purpose = \"training\")"
      ]
    },
    {
      "cell_type": "code",
      "execution_count": 17,
      "id": "401fe772",
      "metadata": {
        "colab": {
          "base_uri": "https://localhost:8080/"
        },
        "id": "401fe772",
        "outputId": "837accbf-99cc-4aae-cc53-8795ba57a062"
      },
      "outputs": [
        {
          "output_type": "stream",
          "name": "stdout",
          "text": [
            "torch.Size([32, 100]) torch.Size([32, 100]) torch.Size([32, 100])\n"
          ]
        }
      ],
      "source": [
        "inp_ids, out_ids, out_out_ids = next(iter(dataloader))\n",
        "print(inp_ids.shape, out_ids.shape, out_out_ids.shape)"
      ]
    },
    {
      "cell_type": "code",
      "execution_count": 18,
      "id": "6b8bb2ab",
      "metadata": {
        "id": "6b8bb2ab"
      },
      "outputs": [],
      "source": [
        "model = NMTModelLA(\n",
        "    vocab_size = 276,\n",
        "    bidirectional = True,\n",
        "    padding_idx = tokenizer.special_tokens[\"<|padding|>\"]\n",
        ")"
      ]
    },
    {
      "cell_type": "code",
      "execution_count": 19,
      "id": "5e9f2886",
      "metadata": {
        "id": "5e9f2886"
      },
      "outputs": [],
      "source": [
        "# model = NMTModelBA(attn_concat_dim = 4000,\n",
        "#                   attn_latent_dim = 512,\n",
        "#                   vocab_size = 276,\n",
        "#                   bidirectional = True,\n",
        "#                   padding_idx = tokenizer.special_tokens[\"<|padding|>\"])"
      ]
    },
    {
      "cell_type": "code",
      "execution_count": 20,
      "id": "c6d34b44",
      "metadata": {
        "id": "c6d34b44"
      },
      "outputs": [],
      "source": [
        "learning_rate = 0.001\n",
        "criterion = categorical_crossentropy\n",
        "optimizer = Adam\n",
        "metric_fns = [accuracy]"
      ]
    },
    {
      "cell_type": "code",
      "execution_count": 23,
      "id": "d4006989",
      "metadata": {
        "id": "d4006989"
      },
      "outputs": [],
      "source": [
        "trainer = Trainer(dataloader, model, criterion, metric_fns, optimizer, lr = learning_rate, device = torch.device(\"cpu\"), num_epochs = 2)"
      ]
    },
    {
      "cell_type": "code",
      "execution_count": null,
      "id": "5c523487",
      "metadata": {
        "colab": {
          "base_uri": "https://localhost:8080/"
        },
        "id": "5c523487",
        "outputId": "c2c22a5a-e0f4-4057-871f-6015fe6daff5"
      },
      "outputs": [
        {
          "output_type": "stream",
          "name": "stderr",
          "text": [
            "  0%|          | 0/2 [00:00<?, ?it/s]\n",
            "0it [00:00, ?it/s]\u001b[A\n",
            "1it [00:26, 26.38s/it]\u001b[A\n",
            "2it [00:52, 26.15s/it]\u001b[A\n",
            "3it [01:13, 23.89s/it]\u001b[A\n",
            "4it [01:35, 23.21s/it]\u001b[A\n",
            "5it [01:55, 21.91s/it]\u001b[A\n",
            "6it [02:16, 21.55s/it]\u001b[A\n",
            "7it [02:35, 20.82s/it]\u001b[A"
          ]
        }
      ],
      "source": [
        "trainer.train()"
      ]
    },
    {
      "cell_type": "code",
      "execution_count": null,
      "id": "52e18d9d",
      "metadata": {
        "id": "52e18d9d"
      },
      "outputs": [],
      "source": []
    }
  ],
  "metadata": {
    "kernelspec": {
      "display_name": "Python 3",
      "name": "python3"
    },
    "language_info": {
      "codemirror_mode": {
        "name": "ipython",
        "version": 3
      },
      "file_extension": ".py",
      "mimetype": "text/x-python",
      "name": "python",
      "nbconvert_exporter": "python",
      "pygments_lexer": "ipython3",
      "version": "3.10.1"
    },
    "colab": {
      "provenance": [],
      "gpuType": "T4"
    },
    "accelerator": "GPU"
  },
  "nbformat": 4,
  "nbformat_minor": 5
}