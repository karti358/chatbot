{
 "cells": [
  {
   "cell_type": "code",
   "execution_count": 1,
   "id": "e936f3a4",
   "metadata": {},
   "outputs": [
    {
     "name": "stderr",
     "output_type": "stream",
     "text": [
      "E:\\class\\Projects\\chatbot\\venv\\lib\\site-packages\\pyspark\\pandas\\__init__.py:50: UserWarning: 'PYARROW_IGNORE_TIMEZONE' environment variable was not set. It is required to set this environment variable to '1' in both driver and executor sides if you use pyarrow>=2.0.0. pandas-on-Spark will set it for you but it does not work if there is a Spark context already launched.\n",
      "  warnings.warn(\n"
     ]
    }
   ],
   "source": [
    "import pyspark\n",
    "from pyspark.sql import SparkSession\n",
    "from pyspark.context import SparkContext\n",
    "\n",
    "from nmt.tokenizer import RegexTokenizer, RegexTokenizerLarge\n",
    "\n",
    "import sys\n",
    "import os"
   ]
  },
  {
   "cell_type": "code",
   "execution_count": 2,
   "id": "09ef4b42-a119-4b29-9910-fd7f17054087",
   "metadata": {},
   "outputs": [],
   "source": [
    "os.environ['PYSPARK_PYTHON'] = sys.executable\n",
    "os.environ['PYSPARK_DRIVER_PYTHON'] = sys.executable"
   ]
  },
  {
   "cell_type": "code",
   "execution_count": 3,
   "id": "2dda4d4b-2509-40c7-a21d-2603618c285b",
   "metadata": {},
   "outputs": [],
   "source": [
    "data_dir = \"hdfs://localhost:9000/data\"\n",
    "spark_master = \"spark://172.20.33.77:7077\""
   ]
  },
  {
   "cell_type": "code",
   "execution_count": 4,
   "id": "580b7199-af76-45bf-bf48-e5fea6ec0a57",
   "metadata": {},
   "outputs": [],
   "source": [
    "# sc = SparkSession.builder.master(spark_master).appName(\"tokenizer\").getOrCreate()"
   ]
  },
  {
   "cell_type": "code",
   "execution_count": 5,
   "id": "473ff237-644a-47a6-9989-a7bdad725995",
   "metadata": {},
   "outputs": [],
   "source": [
    "tokenizer = RegexTokenizerLarge(vocab_size = 15000)"
   ]
  },
  {
   "cell_type": "code",
   "execution_count": 6,
   "id": "f9a47a11-0b94-4f4a-857a-d7ddbe9d3e92",
   "metadata": {},
   "outputs": [
    {
     "name": "stderr",
     "output_type": "stream",
     "text": [
      "E:\\class\\Projects\\chatbot\\venv\\lib\\site-packages\\pyspark\\pandas\\utils.py:1016: PandasAPIOnSparkAdviceWarning: If `index_col` is not specified for `read_csv`, the default index is attached which can cause additional overhead.\n",
      "  warnings.warn(message, PandasAPIOnSparkAdviceWarning)\n",
      "E:\\class\\Projects\\chatbot\\venv\\lib\\site-packages\\pyspark\\pandas\\utils.py:1016: PandasAPIOnSparkAdviceWarning: If the type hints is not specified for `apply`, it is expensive to infer the data type internally.\n",
      "  warnings.warn(message, PandasAPIOnSparkAdviceWarning)\n",
      "ERROR:root:Exception while sending command.\n",
      "Traceback (most recent call last):\n",
      "  File \"E:\\class\\Projects\\chatbot\\venv\\lib\\site-packages\\pyspark\\errors\\exceptions\\captured.py\", line 179, in deco\n",
      "    return f(*a, **kw)\n",
      "  File \"E:\\class\\Projects\\chatbot\\venv\\lib\\site-packages\\py4j\\protocol.py\", line 326, in get_return_value\n",
      "    raise Py4JJavaError(\n",
      "py4j.protocol.Py4JJavaError: <exception str() failed>\n",
      "\n",
      "During handling of the above exception, another exception occurred:\n",
      "\n",
      "Traceback (most recent call last):\n",
      "  File \"E:\\class\\Projects\\chatbot\\venv\\lib\\site-packages\\py4j\\clientserver.py\", line 511, in send_command\n",
      "    answer = smart_decode(self.stream.readline()[:-1])\n",
      "  File \"C:\\Users\\Kartik Yanigar\\AppData\\Local\\Programs\\Python\\Python310\\lib\\socket.py\", line 705, in readinto\n",
      "    return self._sock.recv_into(b)\n",
      "ConnectionResetError: [WinError 10054] An existing connection was forcibly closed by the remote host\n",
      "\n",
      "During handling of the above exception, another exception occurred:\n",
      "\n",
      "Traceback (most recent call last):\n",
      "  File \"E:\\class\\Projects\\chatbot\\venv\\lib\\site-packages\\py4j\\java_gateway.py\", line 1038, in send_command\n",
      "    response = connection.send_command(command)\n",
      "  File \"E:\\class\\Projects\\chatbot\\venv\\lib\\site-packages\\py4j\\clientserver.py\", line 539, in send_command\n",
      "    raise Py4JNetworkError(\n",
      "py4j.protocol.Py4JNetworkError: Error while sending or receiving\n"
     ]
    },
    {
     "ename": "ConnectionRefusedError",
     "evalue": "[WinError 10061] No connection could be made because the target machine actively refused it",
     "output_type": "error",
     "traceback": [
      "\u001b[1;31m---------------------------------------------------------------------------\u001b[0m",
      "\u001b[1;31mPy4JJavaError\u001b[0m                             Traceback (most recent call last)",
      "File \u001b[1;32mE:\\class\\Projects\\chatbot\\venv\\lib\\site-packages\\pyspark\\errors\\exceptions\\captured.py:179\u001b[0m, in \u001b[0;36mcapture_sql_exception.<locals>.deco\u001b[1;34m(*a, **kw)\u001b[0m\n\u001b[0;32m    178\u001b[0m \u001b[38;5;28;01mtry\u001b[39;00m:\n\u001b[1;32m--> 179\u001b[0m     \u001b[38;5;28;01mreturn\u001b[39;00m f(\u001b[38;5;241m*\u001b[39ma, \u001b[38;5;241m*\u001b[39m\u001b[38;5;241m*\u001b[39mkw)\n\u001b[0;32m    180\u001b[0m \u001b[38;5;28;01mexcept\u001b[39;00m Py4JJavaError \u001b[38;5;28;01mas\u001b[39;00m e:\n",
      "File \u001b[1;32mE:\\class\\Projects\\chatbot\\venv\\lib\\site-packages\\py4j\\protocol.py:326\u001b[0m, in \u001b[0;36mget_return_value\u001b[1;34m(answer, gateway_client, target_id, name)\u001b[0m\n\u001b[0;32m    325\u001b[0m \u001b[38;5;28;01mif\u001b[39;00m answer[\u001b[38;5;241m1\u001b[39m] \u001b[38;5;241m==\u001b[39m REFERENCE_TYPE:\n\u001b[1;32m--> 326\u001b[0m     \u001b[38;5;28;01mraise\u001b[39;00m Py4JJavaError(\n\u001b[0;32m    327\u001b[0m         \u001b[38;5;124m\"\u001b[39m\u001b[38;5;124mAn error occurred while calling \u001b[39m\u001b[38;5;132;01m{0}\u001b[39;00m\u001b[38;5;132;01m{1}\u001b[39;00m\u001b[38;5;132;01m{2}\u001b[39;00m\u001b[38;5;124m.\u001b[39m\u001b[38;5;130;01m\\n\u001b[39;00m\u001b[38;5;124m\"\u001b[39m\u001b[38;5;241m.\u001b[39m\n\u001b[0;32m    328\u001b[0m         \u001b[38;5;28mformat\u001b[39m(target_id, \u001b[38;5;124m\"\u001b[39m\u001b[38;5;124m.\u001b[39m\u001b[38;5;124m\"\u001b[39m, name), value)\n\u001b[0;32m    329\u001b[0m \u001b[38;5;28;01melse\u001b[39;00m:\n",
      "\u001b[1;31m<class 'str'>\u001b[0m: (<class 'ConnectionRefusedError'>, ConnectionRefusedError(10061, 'No connection could be made because the target machine actively refused it', None, 10061, None))",
      "\nDuring handling of the above exception, another exception occurred:\n",
      "\u001b[1;31mPy4JError\u001b[0m                                 Traceback (most recent call last)",
      "File \u001b[1;32mE:\\class\\Projects\\chatbot\\venv\\lib\\site-packages\\pyspark\\sql\\dataframe.py:1261\u001b[0m, in \u001b[0;36mDataFrame.collect\u001b[1;34m(self)\u001b[0m\n\u001b[0;32m   1260\u001b[0m \u001b[38;5;28;01mwith\u001b[39;00m SCCallSiteSync(\u001b[38;5;28mself\u001b[39m\u001b[38;5;241m.\u001b[39m_sc):\n\u001b[1;32m-> 1261\u001b[0m     sock_info \u001b[38;5;241m=\u001b[39m \u001b[38;5;28;43mself\u001b[39;49m\u001b[38;5;241;43m.\u001b[39;49m\u001b[43m_jdf\u001b[49m\u001b[38;5;241;43m.\u001b[39;49m\u001b[43mcollectToPython\u001b[49m\u001b[43m(\u001b[49m\u001b[43m)\u001b[49m\n\u001b[0;32m   1262\u001b[0m \u001b[38;5;28;01mreturn\u001b[39;00m \u001b[38;5;28mlist\u001b[39m(_load_from_socket(sock_info, BatchedSerializer(CPickleSerializer())))\n",
      "File \u001b[1;32mE:\\class\\Projects\\chatbot\\venv\\lib\\site-packages\\py4j\\java_gateway.py:1322\u001b[0m, in \u001b[0;36mJavaMember.__call__\u001b[1;34m(self, *args)\u001b[0m\n\u001b[0;32m   1321\u001b[0m answer \u001b[38;5;241m=\u001b[39m \u001b[38;5;28mself\u001b[39m\u001b[38;5;241m.\u001b[39mgateway_client\u001b[38;5;241m.\u001b[39msend_command(command)\n\u001b[1;32m-> 1322\u001b[0m return_value \u001b[38;5;241m=\u001b[39m \u001b[43mget_return_value\u001b[49m\u001b[43m(\u001b[49m\n\u001b[0;32m   1323\u001b[0m \u001b[43m    \u001b[49m\u001b[43manswer\u001b[49m\u001b[43m,\u001b[49m\u001b[43m \u001b[49m\u001b[38;5;28;43mself\u001b[39;49m\u001b[38;5;241;43m.\u001b[39;49m\u001b[43mgateway_client\u001b[49m\u001b[43m,\u001b[49m\u001b[43m \u001b[49m\u001b[38;5;28;43mself\u001b[39;49m\u001b[38;5;241;43m.\u001b[39;49m\u001b[43mtarget_id\u001b[49m\u001b[43m,\u001b[49m\u001b[43m \u001b[49m\u001b[38;5;28;43mself\u001b[39;49m\u001b[38;5;241;43m.\u001b[39;49m\u001b[43mname\u001b[49m\u001b[43m)\u001b[49m\n\u001b[0;32m   1325\u001b[0m \u001b[38;5;28;01mfor\u001b[39;00m temp_arg \u001b[38;5;129;01min\u001b[39;00m temp_args:\n",
      "File \u001b[1;32mE:\\class\\Projects\\chatbot\\venv\\lib\\site-packages\\pyspark\\errors\\exceptions\\captured.py:181\u001b[0m, in \u001b[0;36mcapture_sql_exception.<locals>.deco\u001b[1;34m(*a, **kw)\u001b[0m\n\u001b[0;32m    180\u001b[0m \u001b[38;5;28;01mexcept\u001b[39;00m Py4JJavaError \u001b[38;5;28;01mas\u001b[39;00m e:\n\u001b[1;32m--> 181\u001b[0m     converted \u001b[38;5;241m=\u001b[39m \u001b[43mconvert_exception\u001b[49m\u001b[43m(\u001b[49m\u001b[43me\u001b[49m\u001b[38;5;241;43m.\u001b[39;49m\u001b[43mjava_exception\u001b[49m\u001b[43m)\u001b[49m\n\u001b[0;32m    182\u001b[0m     \u001b[38;5;28;01mif\u001b[39;00m \u001b[38;5;129;01mnot\u001b[39;00m \u001b[38;5;28misinstance\u001b[39m(converted, UnknownException):\n\u001b[0;32m    183\u001b[0m         \u001b[38;5;66;03m# Hide where the exception came from that shows a non-Pythonic\u001b[39;00m\n\u001b[0;32m    184\u001b[0m         \u001b[38;5;66;03m# JVM exception message.\u001b[39;00m\n",
      "File \u001b[1;32mE:\\class\\Projects\\chatbot\\venv\\lib\\site-packages\\pyspark\\errors\\exceptions\\captured.py:134\u001b[0m, in \u001b[0;36mconvert_exception\u001b[1;34m(e)\u001b[0m\n\u001b[0;32m    133\u001b[0m     \u001b[38;5;28;01mreturn\u001b[39;00m AnalysisException(origin\u001b[38;5;241m=\u001b[39me)\n\u001b[1;32m--> 134\u001b[0m \u001b[38;5;28;01melif\u001b[39;00m \u001b[43mis_instance_of\u001b[49m\u001b[43m(\u001b[49m\u001b[43mgw\u001b[49m\u001b[43m,\u001b[49m\u001b[43m \u001b[49m\u001b[43me\u001b[49m\u001b[43m,\u001b[49m\u001b[43m \u001b[49m\u001b[38;5;124;43m\"\u001b[39;49m\u001b[38;5;124;43morg.apache.spark.sql.streaming.StreamingQueryException\u001b[39;49m\u001b[38;5;124;43m\"\u001b[39;49m\u001b[43m)\u001b[49m:\n\u001b[0;32m    135\u001b[0m     \u001b[38;5;28;01mreturn\u001b[39;00m StreamingQueryException(origin\u001b[38;5;241m=\u001b[39me)\n",
      "File \u001b[1;32mE:\\class\\Projects\\chatbot\\venv\\lib\\site-packages\\py4j\\java_gateway.py:464\u001b[0m, in \u001b[0;36mis_instance_of\u001b[1;34m(gateway, java_object, java_class)\u001b[0m\n\u001b[0;32m    461\u001b[0m     \u001b[38;5;28;01mraise\u001b[39;00m Py4JError(\n\u001b[0;32m    462\u001b[0m         \u001b[38;5;124m\"\u001b[39m\u001b[38;5;124mjava_class must be a string, a JavaClass, or a JavaObject\u001b[39m\u001b[38;5;124m\"\u001b[39m)\n\u001b[1;32m--> 464\u001b[0m \u001b[38;5;28;01mreturn\u001b[39;00m \u001b[43mgateway\u001b[49m\u001b[38;5;241;43m.\u001b[39;49m\u001b[43mjvm\u001b[49m\u001b[38;5;241;43m.\u001b[39;49m\u001b[43mpy4j\u001b[49m\u001b[38;5;241;43m.\u001b[39;49m\u001b[43mreflection\u001b[49m\u001b[38;5;241m.\u001b[39mTypeUtil\u001b[38;5;241m.\u001b[39misInstanceOf(\n\u001b[0;32m    465\u001b[0m     param, java_object)\n",
      "File \u001b[1;32mE:\\class\\Projects\\chatbot\\venv\\lib\\site-packages\\py4j\\java_gateway.py:1664\u001b[0m, in \u001b[0;36mJavaPackage.__getattr__\u001b[1;34m(self, name)\u001b[0m\n\u001b[0;32m   1663\u001b[0m \u001b[38;5;28;01melse\u001b[39;00m:\n\u001b[1;32m-> 1664\u001b[0m     \u001b[38;5;28;01mraise\u001b[39;00m Py4JError(\u001b[38;5;124m\"\u001b[39m\u001b[38;5;132;01m{0}\u001b[39;00m\u001b[38;5;124m does not exist in the JVM\u001b[39m\u001b[38;5;124m\"\u001b[39m\u001b[38;5;241m.\u001b[39mformat(new_fqn))\n",
      "\u001b[1;31mPy4JError\u001b[0m: py4j.reflection does not exist in the JVM",
      "\nDuring handling of the above exception, another exception occurred:\n",
      "\u001b[1;31mConnectionRefusedError\u001b[0m                    Traceback (most recent call last)",
      "Cell \u001b[1;32mIn[6], line 1\u001b[0m\n\u001b[1;32m----> 1\u001b[0m \u001b[43mtokenizer\u001b[49m\u001b[38;5;241;43m.\u001b[39;49m\u001b[43mtrain\u001b[49m\u001b[43m(\u001b[49m\u001b[43m[\u001b[49m\n\u001b[0;32m      2\u001b[0m \u001b[43m    \u001b[49m\u001b[43mdata_dir\u001b[49m\u001b[43m \u001b[49m\u001b[38;5;241;43m+\u001b[39;49m\u001b[43m \u001b[49m\u001b[38;5;124;43m\"\u001b[39;49m\u001b[38;5;124;43m/training_data/RC_2017-01.txt\u001b[39;49m\u001b[38;5;124;43m\"\u001b[39;49m\u001b[43m,\u001b[49m\n\u001b[0;32m      3\u001b[0m \u001b[43m    \u001b[49m\u001b[43mdata_dir\u001b[49m\u001b[43m \u001b[49m\u001b[38;5;241;43m+\u001b[39;49m\u001b[43m \u001b[49m\u001b[38;5;124;43m\"\u001b[39;49m\u001b[38;5;124;43m/training_data/RC_2017-02.txt\u001b[39;49m\u001b[38;5;124;43m\"\u001b[39;49m\u001b[43m,\u001b[49m\n\u001b[0;32m      4\u001b[0m \u001b[43m    \u001b[49m\u001b[43mdata_dir\u001b[49m\u001b[43m \u001b[49m\u001b[38;5;241;43m+\u001b[39;49m\u001b[43m \u001b[49m\u001b[38;5;124;43m\"\u001b[39;49m\u001b[38;5;124;43m/training_data/RC_2017-03.txt\u001b[39;49m\u001b[38;5;124;43m\"\u001b[39;49m\n\u001b[0;32m      5\u001b[0m \u001b[43m]\u001b[49m\u001b[43m)\u001b[49m\n",
      "File \u001b[1;32mE:\\class\\Projects\\chatbot\\nmt\\tokenizer\\regex_tokenizer_large.py:52\u001b[0m, in \u001b[0;36mRegexTokenizerLarge.train\u001b[1;34m(self, files, verbose)\u001b[0m\n\u001b[0;32m     50\u001b[0m     chunk_ids \u001b[38;5;241m=\u001b[39m [\u001b[38;5;28mlist\u001b[39m(ch\u001b[38;5;241m.\u001b[39mencode(\u001b[38;5;124m\"\u001b[39m\u001b[38;5;124mutf-8\u001b[39m\u001b[38;5;124m\"\u001b[39m)) \u001b[38;5;28;01mfor\u001b[39;00m ch \u001b[38;5;129;01min\u001b[39;00m chunks]\n\u001b[0;32m     51\u001b[0m     \u001b[38;5;28;01mreturn\u001b[39;00m chunk_ids\n\u001b[1;32m---> 52\u001b[0m df_chunk_ids \u001b[38;5;241m=\u001b[39m pd\u001b[38;5;241m.\u001b[39mDataFrame(\u001b[43mdf\u001b[49m\u001b[38;5;241;43m.\u001b[39;49m\u001b[43mapply\u001b[49m\u001b[43m(\u001b[49m\u001b[43mprocess\u001b[49m\u001b[43m,\u001b[49m\u001b[43m \u001b[49m\u001b[43maxis\u001b[49m\u001b[43m \u001b[49m\u001b[38;5;241;43m=\u001b[39;49m\u001b[43m \u001b[49m\u001b[38;5;241;43m1\u001b[39;49m\u001b[43m,\u001b[49m\u001b[43m \u001b[49m\u001b[43m)\u001b[49m, columns \u001b[38;5;241m=\u001b[39m [\u001b[38;5;124m\"\u001b[39m\u001b[38;5;124mchunks\u001b[39m\u001b[38;5;124m\"\u001b[39m])\n\u001b[0;32m     53\u001b[0m \u001b[38;5;28mprint\u001b[39m(\u001b[38;5;124m\"\u001b[39m\u001b[38;5;124mPrepared the chunk ids ...\u001b[39m\u001b[38;5;124m\"\u001b[39m)\n\u001b[0;32m     55\u001b[0m \u001b[38;5;28;01mdef\u001b[39;00m \u001b[38;5;21mstat_process\u001b[39m(chunk_ids, stats):\n",
      "File \u001b[1;32mE:\\class\\Projects\\chatbot\\venv\\lib\\site-packages\\pyspark\\pandas\\frame.py:3035\u001b[0m, in \u001b[0;36mDataFrame.apply\u001b[1;34m(self, func, axis, args, **kwds)\u001b[0m\n\u001b[0;32m   3030\u001b[0m log_advice(\n\u001b[0;32m   3031\u001b[0m     \u001b[38;5;124m\"\u001b[39m\u001b[38;5;124mIf the type hints is not specified for `apply`, \u001b[39m\u001b[38;5;124m\"\u001b[39m\n\u001b[0;32m   3032\u001b[0m     \u001b[38;5;124m\"\u001b[39m\u001b[38;5;124mit is expensive to infer the data type internally.\u001b[39m\u001b[38;5;124m\"\u001b[39m\n\u001b[0;32m   3033\u001b[0m )\n\u001b[0;32m   3034\u001b[0m limit \u001b[38;5;241m=\u001b[39m get_option(\u001b[38;5;124m\"\u001b[39m\u001b[38;5;124mcompute.shortcut_limit\u001b[39m\u001b[38;5;124m\"\u001b[39m)\n\u001b[1;32m-> 3035\u001b[0m pdf \u001b[38;5;241m=\u001b[39m \u001b[43mself_applied\u001b[49m\u001b[38;5;241;43m.\u001b[39;49m\u001b[43mhead\u001b[49m\u001b[43m(\u001b[49m\u001b[43mlimit\u001b[49m\u001b[43m \u001b[49m\u001b[38;5;241;43m+\u001b[39;49m\u001b[43m \u001b[49m\u001b[38;5;241;43m1\u001b[39;49m\u001b[43m)\u001b[49m\u001b[38;5;241;43m.\u001b[39;49m\u001b[43m_to_internal_pandas\u001b[49m\u001b[43m(\u001b[49m\u001b[43m)\u001b[49m\n\u001b[0;32m   3036\u001b[0m applied \u001b[38;5;241m=\u001b[39m pdf\u001b[38;5;241m.\u001b[39mapply(func, axis\u001b[38;5;241m=\u001b[39maxis, args\u001b[38;5;241m=\u001b[39margs, \u001b[38;5;241m*\u001b[39m\u001b[38;5;241m*\u001b[39mkwds)  \u001b[38;5;66;03m# type: ignore[arg-type]\u001b[39;00m\n\u001b[0;32m   3037\u001b[0m psser_or_psdf \u001b[38;5;241m=\u001b[39m ps\u001b[38;5;241m.\u001b[39mfrom_pandas(applied)\n",
      "File \u001b[1;32mE:\\class\\Projects\\chatbot\\venv\\lib\\site-packages\\pyspark\\pandas\\frame.py:13388\u001b[0m, in \u001b[0;36mDataFrame._to_internal_pandas\u001b[1;34m(self)\u001b[0m\n\u001b[0;32m  13382\u001b[0m \u001b[38;5;28;01mdef\u001b[39;00m \u001b[38;5;21m_to_internal_pandas\u001b[39m(\u001b[38;5;28mself\u001b[39m) \u001b[38;5;241m-\u001b[39m\u001b[38;5;241m>\u001b[39m pd\u001b[38;5;241m.\u001b[39mDataFrame:\n\u001b[0;32m  13383\u001b[0m \u001b[38;5;250m    \u001b[39m\u001b[38;5;124;03m\"\"\"\u001b[39;00m\n\u001b[0;32m  13384\u001b[0m \u001b[38;5;124;03m    Return a pandas DataFrame directly from _internal to avoid overhead of copy.\u001b[39;00m\n\u001b[0;32m  13385\u001b[0m \n\u001b[0;32m  13386\u001b[0m \u001b[38;5;124;03m    This method is for internal use only.\u001b[39;00m\n\u001b[0;32m  13387\u001b[0m \u001b[38;5;124;03m    \"\"\"\u001b[39;00m\n\u001b[1;32m> 13388\u001b[0m     \u001b[38;5;28;01mreturn\u001b[39;00m \u001b[38;5;28;43mself\u001b[39;49m\u001b[38;5;241;43m.\u001b[39;49m\u001b[43m_internal\u001b[49m\u001b[38;5;241;43m.\u001b[39;49m\u001b[43mto_pandas_frame\u001b[49m\n",
      "File \u001b[1;32mE:\\class\\Projects\\chatbot\\venv\\lib\\site-packages\\pyspark\\pandas\\utils.py:600\u001b[0m, in \u001b[0;36mlazy_property.<locals>.wrapped_lazy_property\u001b[1;34m(self)\u001b[0m\n\u001b[0;32m    596\u001b[0m \u001b[38;5;129m@property\u001b[39m\n\u001b[0;32m    597\u001b[0m \u001b[38;5;129m@functools\u001b[39m\u001b[38;5;241m.\u001b[39mwraps(fn)\n\u001b[0;32m    598\u001b[0m \u001b[38;5;28;01mdef\u001b[39;00m \u001b[38;5;21mwrapped_lazy_property\u001b[39m(\u001b[38;5;28mself\u001b[39m):\n\u001b[0;32m    599\u001b[0m     \u001b[38;5;28;01mif\u001b[39;00m \u001b[38;5;129;01mnot\u001b[39;00m \u001b[38;5;28mhasattr\u001b[39m(\u001b[38;5;28mself\u001b[39m, attr_name):\n\u001b[1;32m--> 600\u001b[0m         \u001b[38;5;28msetattr\u001b[39m(\u001b[38;5;28mself\u001b[39m, attr_name, \u001b[43mfn\u001b[49m\u001b[43m(\u001b[49m\u001b[38;5;28;43mself\u001b[39;49m\u001b[43m)\u001b[49m)\n\u001b[0;32m    601\u001b[0m     \u001b[38;5;28;01mreturn\u001b[39;00m \u001b[38;5;28mgetattr\u001b[39m(\u001b[38;5;28mself\u001b[39m, attr_name)\n",
      "File \u001b[1;32mE:\\class\\Projects\\chatbot\\venv\\lib\\site-packages\\pyspark\\pandas\\internal.py:1115\u001b[0m, in \u001b[0;36mInternalFrame.to_pandas_frame\u001b[1;34m(self)\u001b[0m\n\u001b[0;32m   1113\u001b[0m \u001b[38;5;250m\u001b[39m\u001b[38;5;124;03m\"\"\"Return as pandas DataFrame.\"\"\"\u001b[39;00m\n\u001b[0;32m   1114\u001b[0m sdf \u001b[38;5;241m=\u001b[39m \u001b[38;5;28mself\u001b[39m\u001b[38;5;241m.\u001b[39mto_internal_spark_frame\n\u001b[1;32m-> 1115\u001b[0m pdf \u001b[38;5;241m=\u001b[39m \u001b[43msdf\u001b[49m\u001b[38;5;241;43m.\u001b[39;49m\u001b[43mtoPandas\u001b[49m\u001b[43m(\u001b[49m\u001b[43m)\u001b[49m\n\u001b[0;32m   1116\u001b[0m \u001b[38;5;28;01mif\u001b[39;00m \u001b[38;5;28mlen\u001b[39m(pdf) \u001b[38;5;241m==\u001b[39m \u001b[38;5;241m0\u001b[39m \u001b[38;5;129;01mand\u001b[39;00m \u001b[38;5;28mlen\u001b[39m(sdf\u001b[38;5;241m.\u001b[39mschema) \u001b[38;5;241m>\u001b[39m \u001b[38;5;241m0\u001b[39m:\n\u001b[0;32m   1117\u001b[0m     pdf \u001b[38;5;241m=\u001b[39m pdf\u001b[38;5;241m.\u001b[39mastype(\n\u001b[0;32m   1118\u001b[0m         {field\u001b[38;5;241m.\u001b[39mname: spark_type_to_pandas_dtype(field\u001b[38;5;241m.\u001b[39mdataType) \u001b[38;5;28;01mfor\u001b[39;00m field \u001b[38;5;129;01min\u001b[39;00m sdf\u001b[38;5;241m.\u001b[39mschema}\n\u001b[0;32m   1119\u001b[0m     )\n",
      "File \u001b[1;32mE:\\class\\Projects\\chatbot\\venv\\lib\\site-packages\\pyspark\\sql\\pandas\\conversion.py:202\u001b[0m, in \u001b[0;36mPandasConversionMixin.toPandas\u001b[1;34m(self)\u001b[0m\n\u001b[0;32m    199\u001b[0m             \u001b[38;5;28;01mraise\u001b[39;00m\n\u001b[0;32m    201\u001b[0m \u001b[38;5;66;03m# Below is toPandas without Arrow optimization.\u001b[39;00m\n\u001b[1;32m--> 202\u001b[0m rows \u001b[38;5;241m=\u001b[39m \u001b[38;5;28;43mself\u001b[39;49m\u001b[38;5;241;43m.\u001b[39;49m\u001b[43mcollect\u001b[49m\u001b[43m(\u001b[49m\u001b[43m)\u001b[49m\n\u001b[0;32m    203\u001b[0m \u001b[38;5;28;01mif\u001b[39;00m \u001b[38;5;28mlen\u001b[39m(rows) \u001b[38;5;241m>\u001b[39m \u001b[38;5;241m0\u001b[39m:\n\u001b[0;32m    204\u001b[0m     pdf \u001b[38;5;241m=\u001b[39m pd\u001b[38;5;241m.\u001b[39mDataFrame\u001b[38;5;241m.\u001b[39mfrom_records(\n\u001b[0;32m    205\u001b[0m         rows, index\u001b[38;5;241m=\u001b[39m\u001b[38;5;28mrange\u001b[39m(\u001b[38;5;28mlen\u001b[39m(rows)), columns\u001b[38;5;241m=\u001b[39m\u001b[38;5;28mself\u001b[39m\u001b[38;5;241m.\u001b[39mcolumns  \u001b[38;5;66;03m# type: ignore[arg-type]\u001b[39;00m\n\u001b[0;32m    206\u001b[0m     )\n",
      "File \u001b[1;32mE:\\class\\Projects\\chatbot\\venv\\lib\\site-packages\\pyspark\\sql\\dataframe.py:1260\u001b[0m, in \u001b[0;36mDataFrame.collect\u001b[1;34m(self)\u001b[0m\n\u001b[0;32m   1240\u001b[0m \u001b[38;5;28;01mdef\u001b[39;00m \u001b[38;5;21mcollect\u001b[39m(\u001b[38;5;28mself\u001b[39m) \u001b[38;5;241m-\u001b[39m\u001b[38;5;241m>\u001b[39m List[Row]:\n\u001b[0;32m   1241\u001b[0m \u001b[38;5;250m    \u001b[39m\u001b[38;5;124;03m\"\"\"Returns all the records as a list of :class:`Row`.\u001b[39;00m\n\u001b[0;32m   1242\u001b[0m \n\u001b[0;32m   1243\u001b[0m \u001b[38;5;124;03m    .. versionadded:: 1.3.0\u001b[39;00m\n\u001b[1;32m   (...)\u001b[0m\n\u001b[0;32m   1258\u001b[0m \u001b[38;5;124;03m    [Row(age=14, name='Tom'), Row(age=23, name='Alice'), Row(age=16, name='Bob')]\u001b[39;00m\n\u001b[0;32m   1259\u001b[0m \u001b[38;5;124;03m    \"\"\"\u001b[39;00m\n\u001b[1;32m-> 1260\u001b[0m     \u001b[38;5;28;01mwith\u001b[39;00m SCCallSiteSync(\u001b[38;5;28mself\u001b[39m\u001b[38;5;241m.\u001b[39m_sc):\n\u001b[0;32m   1261\u001b[0m         sock_info \u001b[38;5;241m=\u001b[39m \u001b[38;5;28mself\u001b[39m\u001b[38;5;241m.\u001b[39m_jdf\u001b[38;5;241m.\u001b[39mcollectToPython()\n\u001b[0;32m   1262\u001b[0m     \u001b[38;5;28;01mreturn\u001b[39;00m \u001b[38;5;28mlist\u001b[39m(_load_from_socket(sock_info, BatchedSerializer(CPickleSerializer())))\n",
      "File \u001b[1;32mE:\\class\\Projects\\chatbot\\venv\\lib\\site-packages\\pyspark\\traceback_utils.py:81\u001b[0m, in \u001b[0;36mSCCallSiteSync.__exit__\u001b[1;34m(self, type, value, tb)\u001b[0m\n\u001b[0;32m     79\u001b[0m SCCallSiteSync\u001b[38;5;241m.\u001b[39m_spark_stack_depth \u001b[38;5;241m-\u001b[39m\u001b[38;5;241m=\u001b[39m \u001b[38;5;241m1\u001b[39m\n\u001b[0;32m     80\u001b[0m \u001b[38;5;28;01mif\u001b[39;00m SCCallSiteSync\u001b[38;5;241m.\u001b[39m_spark_stack_depth \u001b[38;5;241m==\u001b[39m \u001b[38;5;241m0\u001b[39m:\n\u001b[1;32m---> 81\u001b[0m     \u001b[38;5;28;43mself\u001b[39;49m\u001b[38;5;241;43m.\u001b[39;49m\u001b[43m_context\u001b[49m\u001b[38;5;241;43m.\u001b[39;49m\u001b[43m_jsc\u001b[49m\u001b[38;5;241;43m.\u001b[39;49m\u001b[43msetCallSite\u001b[49m\u001b[43m(\u001b[49m\u001b[38;5;28;43;01mNone\u001b[39;49;00m\u001b[43m)\u001b[49m\n",
      "File \u001b[1;32mE:\\class\\Projects\\chatbot\\venv\\lib\\site-packages\\py4j\\java_gateway.py:1321\u001b[0m, in \u001b[0;36mJavaMember.__call__\u001b[1;34m(self, *args)\u001b[0m\n\u001b[0;32m   1314\u001b[0m args_command, temp_args \u001b[38;5;241m=\u001b[39m \u001b[38;5;28mself\u001b[39m\u001b[38;5;241m.\u001b[39m_build_args(\u001b[38;5;241m*\u001b[39margs)\n\u001b[0;32m   1316\u001b[0m command \u001b[38;5;241m=\u001b[39m proto\u001b[38;5;241m.\u001b[39mCALL_COMMAND_NAME \u001b[38;5;241m+\u001b[39m\\\n\u001b[0;32m   1317\u001b[0m     \u001b[38;5;28mself\u001b[39m\u001b[38;5;241m.\u001b[39mcommand_header \u001b[38;5;241m+\u001b[39m\\\n\u001b[0;32m   1318\u001b[0m     args_command \u001b[38;5;241m+\u001b[39m\\\n\u001b[0;32m   1319\u001b[0m     proto\u001b[38;5;241m.\u001b[39mEND_COMMAND_PART\n\u001b[1;32m-> 1321\u001b[0m answer \u001b[38;5;241m=\u001b[39m \u001b[38;5;28;43mself\u001b[39;49m\u001b[38;5;241;43m.\u001b[39;49m\u001b[43mgateway_client\u001b[49m\u001b[38;5;241;43m.\u001b[39;49m\u001b[43msend_command\u001b[49m\u001b[43m(\u001b[49m\u001b[43mcommand\u001b[49m\u001b[43m)\u001b[49m\n\u001b[0;32m   1322\u001b[0m return_value \u001b[38;5;241m=\u001b[39m get_return_value(\n\u001b[0;32m   1323\u001b[0m     answer, \u001b[38;5;28mself\u001b[39m\u001b[38;5;241m.\u001b[39mgateway_client, \u001b[38;5;28mself\u001b[39m\u001b[38;5;241m.\u001b[39mtarget_id, \u001b[38;5;28mself\u001b[39m\u001b[38;5;241m.\u001b[39mname)\n\u001b[0;32m   1325\u001b[0m \u001b[38;5;28;01mfor\u001b[39;00m temp_arg \u001b[38;5;129;01min\u001b[39;00m temp_args:\n",
      "File \u001b[1;32mE:\\class\\Projects\\chatbot\\venv\\lib\\site-packages\\py4j\\java_gateway.py:1036\u001b[0m, in \u001b[0;36mGatewayClient.send_command\u001b[1;34m(self, command, retry, binary)\u001b[0m\n\u001b[0;32m   1015\u001b[0m \u001b[38;5;28;01mdef\u001b[39;00m \u001b[38;5;21msend_command\u001b[39m(\u001b[38;5;28mself\u001b[39m, command, retry\u001b[38;5;241m=\u001b[39m\u001b[38;5;28;01mTrue\u001b[39;00m, binary\u001b[38;5;241m=\u001b[39m\u001b[38;5;28;01mFalse\u001b[39;00m):\n\u001b[0;32m   1016\u001b[0m \u001b[38;5;250m    \u001b[39m\u001b[38;5;124;03m\"\"\"Sends a command to the JVM. This method is not intended to be\u001b[39;00m\n\u001b[0;32m   1017\u001b[0m \u001b[38;5;124;03m       called directly by Py4J users. It is usually called by\u001b[39;00m\n\u001b[0;32m   1018\u001b[0m \u001b[38;5;124;03m       :class:`JavaMember` instances.\u001b[39;00m\n\u001b[1;32m   (...)\u001b[0m\n\u001b[0;32m   1034\u001b[0m \u001b[38;5;124;03m     if `binary` is `True`.\u001b[39;00m\n\u001b[0;32m   1035\u001b[0m \u001b[38;5;124;03m    \"\"\"\u001b[39;00m\n\u001b[1;32m-> 1036\u001b[0m     connection \u001b[38;5;241m=\u001b[39m \u001b[38;5;28;43mself\u001b[39;49m\u001b[38;5;241;43m.\u001b[39;49m\u001b[43m_get_connection\u001b[49m\u001b[43m(\u001b[49m\u001b[43m)\u001b[49m\n\u001b[0;32m   1037\u001b[0m     \u001b[38;5;28;01mtry\u001b[39;00m:\n\u001b[0;32m   1038\u001b[0m         response \u001b[38;5;241m=\u001b[39m connection\u001b[38;5;241m.\u001b[39msend_command(command)\n",
      "File \u001b[1;32mE:\\class\\Projects\\chatbot\\venv\\lib\\site-packages\\py4j\\clientserver.py:284\u001b[0m, in \u001b[0;36mJavaClient._get_connection\u001b[1;34m(self)\u001b[0m\n\u001b[0;32m    281\u001b[0m     \u001b[38;5;28;01mpass\u001b[39;00m\n\u001b[0;32m    283\u001b[0m \u001b[38;5;28;01mif\u001b[39;00m connection \u001b[38;5;129;01mis\u001b[39;00m \u001b[38;5;28;01mNone\u001b[39;00m \u001b[38;5;129;01mor\u001b[39;00m connection\u001b[38;5;241m.\u001b[39msocket \u001b[38;5;129;01mis\u001b[39;00m \u001b[38;5;28;01mNone\u001b[39;00m:\n\u001b[1;32m--> 284\u001b[0m     connection \u001b[38;5;241m=\u001b[39m \u001b[38;5;28;43mself\u001b[39;49m\u001b[38;5;241;43m.\u001b[39;49m\u001b[43m_create_new_connection\u001b[49m\u001b[43m(\u001b[49m\u001b[43m)\u001b[49m\n\u001b[0;32m    285\u001b[0m \u001b[38;5;28;01mreturn\u001b[39;00m connection\n",
      "File \u001b[1;32mE:\\class\\Projects\\chatbot\\venv\\lib\\site-packages\\py4j\\clientserver.py:291\u001b[0m, in \u001b[0;36mJavaClient._create_new_connection\u001b[1;34m(self)\u001b[0m\n\u001b[0;32m    287\u001b[0m \u001b[38;5;28;01mdef\u001b[39;00m \u001b[38;5;21m_create_new_connection\u001b[39m(\u001b[38;5;28mself\u001b[39m):\n\u001b[0;32m    288\u001b[0m     connection \u001b[38;5;241m=\u001b[39m ClientServerConnection(\n\u001b[0;32m    289\u001b[0m         \u001b[38;5;28mself\u001b[39m\u001b[38;5;241m.\u001b[39mjava_parameters, \u001b[38;5;28mself\u001b[39m\u001b[38;5;241m.\u001b[39mpython_parameters,\n\u001b[0;32m    290\u001b[0m         \u001b[38;5;28mself\u001b[39m\u001b[38;5;241m.\u001b[39mgateway_property, \u001b[38;5;28mself\u001b[39m)\n\u001b[1;32m--> 291\u001b[0m     \u001b[43mconnection\u001b[49m\u001b[38;5;241;43m.\u001b[39;49m\u001b[43mconnect_to_java_server\u001b[49m\u001b[43m(\u001b[49m\u001b[43m)\u001b[49m\n\u001b[0;32m    292\u001b[0m     \u001b[38;5;28mself\u001b[39m\u001b[38;5;241m.\u001b[39mset_thread_connection(connection)\n\u001b[0;32m    293\u001b[0m     \u001b[38;5;28;01mreturn\u001b[39;00m connection\n",
      "File \u001b[1;32mE:\\class\\Projects\\chatbot\\venv\\lib\\site-packages\\py4j\\clientserver.py:438\u001b[0m, in \u001b[0;36mClientServerConnection.connect_to_java_server\u001b[1;34m(self)\u001b[0m\n\u001b[0;32m    435\u001b[0m \u001b[38;5;28;01mif\u001b[39;00m \u001b[38;5;28mself\u001b[39m\u001b[38;5;241m.\u001b[39mssl_context:\n\u001b[0;32m    436\u001b[0m     \u001b[38;5;28mself\u001b[39m\u001b[38;5;241m.\u001b[39msocket \u001b[38;5;241m=\u001b[39m \u001b[38;5;28mself\u001b[39m\u001b[38;5;241m.\u001b[39mssl_context\u001b[38;5;241m.\u001b[39mwrap_socket(\n\u001b[0;32m    437\u001b[0m         \u001b[38;5;28mself\u001b[39m\u001b[38;5;241m.\u001b[39msocket, server_hostname\u001b[38;5;241m=\u001b[39m\u001b[38;5;28mself\u001b[39m\u001b[38;5;241m.\u001b[39mjava_address)\n\u001b[1;32m--> 438\u001b[0m \u001b[38;5;28;43mself\u001b[39;49m\u001b[38;5;241;43m.\u001b[39;49m\u001b[43msocket\u001b[49m\u001b[38;5;241;43m.\u001b[39;49m\u001b[43mconnect\u001b[49m\u001b[43m(\u001b[49m\u001b[43m(\u001b[49m\u001b[38;5;28;43mself\u001b[39;49m\u001b[38;5;241;43m.\u001b[39;49m\u001b[43mjava_address\u001b[49m\u001b[43m,\u001b[49m\u001b[43m \u001b[49m\u001b[38;5;28;43mself\u001b[39;49m\u001b[38;5;241;43m.\u001b[39;49m\u001b[43mjava_port\u001b[49m\u001b[43m)\u001b[49m\u001b[43m)\u001b[49m\n\u001b[0;32m    439\u001b[0m \u001b[38;5;28mself\u001b[39m\u001b[38;5;241m.\u001b[39mstream \u001b[38;5;241m=\u001b[39m \u001b[38;5;28mself\u001b[39m\u001b[38;5;241m.\u001b[39msocket\u001b[38;5;241m.\u001b[39mmakefile(\u001b[38;5;124m\"\u001b[39m\u001b[38;5;124mrb\u001b[39m\u001b[38;5;124m\"\u001b[39m)\n\u001b[0;32m    440\u001b[0m \u001b[38;5;28mself\u001b[39m\u001b[38;5;241m.\u001b[39mis_connected \u001b[38;5;241m=\u001b[39m \u001b[38;5;28;01mTrue\u001b[39;00m\n",
      "\u001b[1;31mConnectionRefusedError\u001b[0m: [WinError 10061] No connection could be made because the target machine actively refused it"
     ]
    }
   ],
   "source": [
    "tokenizer.train([\n",
    "    data_dir + \"/training_data/RC_2017-01.txt\",\n",
    "    data_dir + \"/training_data/RC_2017-02.txt\",\n",
    "    data_dir + \"/training_data/RC_2017-03.txt\"\n",
    "])"
   ]
  },
  {
   "cell_type": "code",
   "execution_count": null,
   "id": "28cc13c6-30b8-43b5-ad14-1a8e08a801fa",
   "metadata": {},
   "outputs": [],
   "source": []
  },
  {
   "cell_type": "code",
   "execution_count": null,
   "id": "64752af7-75f0-46a7-bee4-9a28dca25bd3",
   "metadata": {},
   "outputs": [],
   "source": []
  },
  {
   "cell_type": "code",
   "execution_count": null,
   "id": "299e5679-9081-4325-ab99-bd45ddde574e",
   "metadata": {},
   "outputs": [],
   "source": []
  },
  {
   "cell_type": "code",
   "execution_count": null,
   "id": "bdd84698-c6fc-43e2-bee0-763c8e3a1f89",
   "metadata": {},
   "outputs": [],
   "source": []
  },
  {
   "cell_type": "code",
   "execution_count": null,
   "id": "66555737-6abc-4cd9-9aa0-50a0bf75c0ad",
   "metadata": {},
   "outputs": [],
   "source": []
  },
  {
   "cell_type": "code",
   "execution_count": null,
   "id": "a6cd408c-fd79-420a-a132-cd063bf5e97a",
   "metadata": {},
   "outputs": [],
   "source": []
  },
  {
   "cell_type": "code",
   "execution_count": null,
   "id": "585b32a6-dde5-4345-83d6-36caa6328838",
   "metadata": {},
   "outputs": [],
   "source": []
  },
  {
   "cell_type": "code",
   "execution_count": null,
   "id": "16912625-8ff5-4a0f-b2c0-3169649dfbd7",
   "metadata": {},
   "outputs": [],
   "source": []
  },
  {
   "cell_type": "code",
   "execution_count": null,
   "id": "61a8db9f-6f7e-463b-8075-879574825acb",
   "metadata": {},
   "outputs": [],
   "source": []
  },
  {
   "cell_type": "code",
   "execution_count": null,
   "id": "c12798bf-79e9-4caf-bb9a-db90987e69a2",
   "metadata": {},
   "outputs": [],
   "source": []
  },
  {
   "cell_type": "code",
   "execution_count": null,
   "id": "01cae42d-5aab-4c85-9777-1db197734ce9",
   "metadata": {},
   "outputs": [],
   "source": []
  },
  {
   "cell_type": "code",
   "execution_count": null,
   "id": "679e395f-4139-4341-bbc5-cf5f1c845cad",
   "metadata": {},
   "outputs": [],
   "source": [
    "import pyspark.pandas as pd"
   ]
  },
  {
   "cell_type": "code",
   "execution_count": 6,
   "id": "d57736bb-f2e1-42ab-985a-d29daf18b3ba",
   "metadata": {},
   "outputs": [
    {
     "name": "stderr",
     "output_type": "stream",
     "text": [
      "E:\\class\\Projects\\chatbot\\venv\\lib\\site-packages\\pyspark\\pandas\\utils.py:1016: PandasAPIOnSparkAdviceWarning: If `index_col` is not specified for `read_csv`, the default index is attached which can cause additional overhead.\n",
      "  warnings.warn(message, PandasAPIOnSparkAdviceWarning)\n"
     ]
    }
   ],
   "source": [
    "df = pd.read_csv(data_dir + \"/validation_data/RC_2017-01.txt\", sep = \"<||>\", header = None, encoding = \"utf-8\")"
   ]
  },
  {
   "cell_type": "code",
   "execution_count": 7,
   "id": "62ee82d0-bbba-4937-a2fe-12fdf4e638e4",
   "metadata": {},
   "outputs": [
    {
     "data": {
      "text/html": [
       "<div>\n",
       "<style scoped>\n",
       "    .dataframe tbody tr th:only-of-type {\n",
       "        vertical-align: middle;\n",
       "    }\n",
       "\n",
       "    .dataframe tbody tr th {\n",
       "        vertical-align: top;\n",
       "    }\n",
       "\n",
       "    .dataframe thead th {\n",
       "        text-align: right;\n",
       "    }\n",
       "</style>\n",
       "<table border=\"1\" class=\"dataframe\">\n",
       "  <thead>\n",
       "    <tr style=\"text-align: right;\">\n",
       "      <th></th>\n",
       "      <th>0</th>\n",
       "      <th>1</th>\n",
       "    </tr>\n",
       "  </thead>\n",
       "  <tbody>\n",
       "    <tr>\n",
       "      <th>0</th>\n",
       "      <td>Okay exactly. So why does Cap have to be the o...</td>\n",
       "      <td>Who says he has to be? Did I say that?</td>\n",
       "    </tr>\n",
       "    <tr>\n",
       "      <th>1</th>\n",
       "      <td>Just write it once and copy and paste.</td>\n",
       "      <td>I like to personalize them a touch. I don't wa...</td>\n",
       "    </tr>\n",
       "    <tr>\n",
       "      <th>2</th>\n",
       "      <td>Mango Mao</td>\n",
       "      <td>Coral Castro</td>\n",
       "    </tr>\n",
       "    <tr>\n",
       "      <th>3</th>\n",
       "      <td>Hvorfor fanden lærer hun ikke bare at bruge en...</td>\n",
       "      <td>Jeg synes nu det er dejligt at se, at hun sidd...</td>\n",
       "    </tr>\n",
       "    <tr>\n",
       "      <th>4</th>\n",
       "      <td>I think you mean...TO THE FUTURE!</td>\n",
       "      <td>[That's been my mantra for 2 years now!](http:...</td>\n",
       "    </tr>\n",
       "  </tbody>\n",
       "</table>\n",
       "</div>"
      ],
      "text/plain": [
       "                                                                                                                                              0                                                                                                                                                                                       1\n",
       "0                                                                             Okay exactly. So why does Cap have to be the one to kill Thanos?                                                                                                                                                   Who says he has to be? Did I say that?\n",
       "1                                                                                                        Just write it once and copy and paste.                                                                                                                   I like to personalize them a touch. I don't want it to be too generic\n",
       "2                                                                                                                                     Mango Mao                                                                                                                                                                            Coral Castro\n",
       "3  Hvorfor fanden lærer hun ikke bare at bruge en teleprompter ligesom resten af verden? <|newlinechar|>  <|newlinechar|> Edit: fat-finger typo  Jeg synes nu det er dejligt at se, at hun sidder med godt, gammeldags papir. Det giver om ikke andet, så illusionen af, at hun selv har siddet og skrevet talen, uden hjælp fra nogen.\n",
       "4                                                                                                             I think you mean...TO THE FUTURE!                                                                                                                [That's been my mantra for 2 years now!](http://i.imgur.com/waOI687.png)"
      ]
     },
     "execution_count": 7,
     "metadata": {},
     "output_type": "execute_result"
    }
   ],
   "source": [
    "df.head()"
   ]
  },
  {
   "cell_type": "code",
   "execution_count": 8,
   "id": "2aa884ad-77cf-4d15-b1b1-0662445077e6",
   "metadata": {},
   "outputs": [
    {
     "name": "stdout",
     "output_type": "stream",
     "text": [
      "<class 'pyspark.pandas.frame.DataFrame'>\n",
      "Int64Index: 5000 entries, 0 to 4999\n",
      "Data columns (total 2 columns):\n",
      " #   Column  Non-Null Count  Dtype \n",
      "---  ------  --------------  ----- \n",
      " 0   0       5000 non-null   object\n",
      " 1   1       5000 non-null   object\n",
      "dtypes: object(2)"
     ]
    }
   ],
   "source": [
    "df.info()"
   ]
  },
  {
   "cell_type": "code",
   "execution_count": 9,
   "id": "4eef816e-e91d-4a9d-adab-5e7e43796bac",
   "metadata": {},
   "outputs": [],
   "source": [
    "df_new = df.head(100)"
   ]
  },
  {
   "cell_type": "code",
   "execution_count": 10,
   "id": "741dd007-b8e0-4b0c-ac34-97f4ea2c60ec",
   "metadata": {},
   "outputs": [],
   "source": [
    "import regex as re\n",
    "GPT4_SPLIT_PATTERN = r\"\"\"'(?i:[sdmt]|ll|ve|re)|[^\\r\\n\\p{L}\\p{N}]?+\\p{L}+|\\p{N}{1,3}| ?[^\\s\\p{L}\\p{N}]++[\\r\\n]*|\\s*[\\r\\n]|\\s+(?!\\S)|\\s+\"\"\""
   ]
  },
  {
   "cell_type": "code",
   "execution_count": 12,
   "id": "07d15c21-1a6b-4209-9cb4-f5608624c6cf",
   "metadata": {},
   "outputs": [
    {
     "name": "stderr",
     "output_type": "stream",
     "text": [
      "E:\\class\\Projects\\chatbot\\venv\\lib\\site-packages\\pyspark\\pandas\\utils.py:1016: PandasAPIOnSparkAdviceWarning: If the type hints is not specified for `apply`, it is expensive to infer the data type internally.\n",
      "  warnings.warn(message, PandasAPIOnSparkAdviceWarning)\n"
     ]
    }
   ],
   "source": [
    "def func(row):\n",
    "    chunks = re.findall(GPT4_SPLIT_PATTERN , row[0] + \" \" + row[1])\n",
    "    return chunks\n",
    "dummy = df_new.apply(func, axis = 1)"
   ]
  },
  {
   "cell_type": "code",
   "execution_count": 13,
   "id": "86ec34af-32aa-4ff2-9a48-380bf0c4b874",
   "metadata": {},
   "outputs": [
    {
     "data": {
      "text/plain": [
       "0    [Okay,  exactly, .,  So,  why,  does,  Cap,  h...\n",
       "1    [Just,  write,  it,  once,  and,  copy,  and, ...\n",
       "2                       [Mango,  Mao,  Coral,  Castro]\n",
       "3    [Hvorfor,  fanden,  lærer,  hun,  ikke,  bare,...\n",
       "4    [I,  think,  you,  mean, ..., TO,  THE,  FUTUR...\n",
       "dtype: object"
      ]
     },
     "execution_count": 13,
     "metadata": {},
     "output_type": "execute_result"
    }
   ],
   "source": [
    "dummy.head()"
   ]
  },
  {
   "cell_type": "code",
   "execution_count": 20,
   "id": "1bf6c647-9da7-4b4d-8558-3179813cab74",
   "metadata": {},
   "outputs": [],
   "source": [
    "dummy_1 = pd.DataFrame(dummy)"
   ]
  },
  {
   "cell_type": "code",
   "execution_count": 23,
   "id": "303bb78a-70c5-4fd4-bd86-5626e0b562b9",
   "metadata": {},
   "outputs": [
    {
     "name": "stderr",
     "output_type": "stream",
     "text": [
      "E:\\class\\Projects\\chatbot\\venv\\lib\\site-packages\\pyspark\\pandas\\utils.py:1016: PandasAPIOnSparkAdviceWarning: If the type hints is not specified for `apply`, it is expensive to infer the data type internally.\n",
      "  warnings.warn(message, PandasAPIOnSparkAdviceWarning)\n"
     ]
    },
    {
     "name": "stdout",
     "output_type": "stream",
     "text": [
      "['Okay', ' exactly', '.', ' So', ' why', ' does', ' Cap', ' have', ' to', ' be', ' the', ' one', ' to', ' kill', ' Thanos', '?', ' ', ' Who', ' says', ' he', ' has', ' to', ' be', '?', ' Did', ' I', ' say', ' that', '?'] False\n",
      "['Just', ' write', ' it', ' once', ' and', ' copy', ' and', ' paste', '.', ' I', ' like', ' to', ' personalize', ' them', ' a', ' touch', '.', ' I', ' don', \"'t\", ' want', ' it', ' to', ' be', ' too', ' generic'] False\n",
      "['Mango', ' Mao', ' Coral', ' Castro'] False\n",
      "['Hvorfor', ' fanden', ' lærer', ' hun', ' ikke', ' bare', ' at', ' bruge', ' en', ' teleprompter', ' ligesom', ' resten', ' af', ' verden', '?', ' <|', 'newlinechar', '|>', ' ', ' <|', 'newlinechar', '|>', ' Edit', ':', ' fat', '-finger', ' typo', ' Jeg', ' synes', ' nu', ' det', ' er', ' dejligt', ' at', ' se', ',', ' at', ' hun', ' sidder', ' med', ' godt', ',', ' gammeldags', ' papir', '.', ' Det', ' giver', ' om', ' ikke', ' andet', ',', ' så', ' illusionen', ' af', ',', ' at', ' hun', ' selv', ' har', ' siddet', ' og', ' skrevet', ' talen', ',', ' uden', ' hjælp', ' fra', ' nogen', '.'] False\n",
      "['I', ' think', ' you', ' mean', '...', 'TO', ' THE', ' FUTURE', '!', ' [', 'That', \"'s\", ' been', ' my', ' mantra', ' for', ' ', '2', ' years', ' now', '!](', 'http', '://', 'i', '.imgur', '.com', '/waOI', '687', '.png', ')'] False\n",
      "['Sounds', ' like', ' you', ' guys', ' had', ' it', ' good', ' with', ' all', ' the', ' sim', ' munitions', ' and', ' all', '.', ' ', ' We', ' did', ' one', ' where', ' they', ' threw', ' a', ' piece', ' of', ' junk', ' of', ' the', ' fence', ' and', ' told', ' us', ' it', ' was', ' a', ' UXO', '.', ' ', ' Made', ' us', ' go', ' through', ' the', ' ID', ' and', ' reporting', ' steps', '.', ' ', ' We', ' were', ' like', ' dude', ' this', ' doesn', \"'t\", ' resemble', ' anything', ' in', ' the', ' chart', ' so', ' we', ' reported', ' a', ' UXO', ' shaped', ' like', ' a', ' bicycle', ' frame', '.', ' ', ' Good', ' times', '.', ' Was', ' great', ' until', ' a', ' cadet', ' picked', ' up', ' a', ' white', ' object', ' with', ' wires', ' stringing', ' along', ' behind', ' and', ' brought', ' it', ' over', ' to', ' Lt', '.', ' Lt', '.', ' got', ' really', ' calm', '.', ' That', ' was', ' scary', ',', ' because', ' Lt', '.', ' was', ' never', ' calm', '.', ' He', ' was', ' always', ' screaming', ' at', ' someone', ' and', ' smoking', ' cadets', ' left', ' and', ' right', '.', ' He', ' carefully', ' took', ' the', ' object', ' from', ' kid', ' cadet', ',', ' took', ' it', ' to', ' the', ' tree', ' line', ' and', ' set', ' it', ' down', ' very', ' carefully', '.', ' ', ' <|', 'newlinechar', '|>', ' ', ' <|', 'newlinechar', '|>', ' The', ' Rangers', ' came', ' up', ' to', ' dispose', ' of', ' an', ' unexploded', ' artillery', ' simulator', '.', ' We', ' heard', ' them', ' going', ' off', ' all', ' the', ' time', '.', ' That', ' was', ' the', ' first', ' time', ' a', ' cadet', ' found', ' and', ' collected', ' one', '.', ' I', ' don', \"'t\", ' think', ' they', \"'ll\", ' go', ' off', ' without', ' an', ' electric', ' charge', ',', ' but', ' I', ' still', ' wouldn', \"'t\", ' pick', ' one', ' up', '.', ' ', ' <|', 'newlinechar', '|>', ' ', ' <|', 'newlinechar', '|>', ' '] False\n",
      "['heh', ' --', ' you', ' can', ' catch', ' the', ' herp', ' even', ' with', ' a', ' condom', '.', ' it', \"'s\", ' skin', ' contact', '.', ' ', ' <|', 'newlinechar', '|>', ' ', ' <|', 'newlinechar', '|>', ' ', ' Right', ',', ' but', ' that', \"'s\", ' my', ' point', '..', 'why', ' risk', ' any', ' of', ' this', ' with', ' a', ' stranger', ',', ' with', ' or', ' without', ' the', ' pill', '?'] False\n",
      "['Prodrome', ' is', ' a', ' word', ' but', ' it', \"'s\", ' specific', ' to', ' the', ' health', ' field', ',', ' which', ' is', ' why', ' you', ' might', ' not', ' have', ' heard', ' it', ' before', '.', ' It', ' refers', ' to', ' the', ' signs', ' and', ' symptoms', ' that', ' occur', ' before', ' the', ' onset', ' of', ' a', ' disorder', '.', ' So', ' for', ' example', ',', ' the', ' prodromal', ' phase', ' of', ' schizophrenia', ' is', ' the', ' phase', ' before', ' any', ' psychotic', ' symptoms', '.', ' ', ' <|', 'newlinechar', '|>', ' ', ' <|', 'newlinechar', '|>', ' Source', ':', ' Studying', ' to', ' become', ' a', ' clinical', ' psych', '.', ' Interesting', ' -', ' thanks', ' for', ' the', ' clarification', '.', ' I', ' guess', ' that', \"'s\", ' my', ' first', ' new', ' word', ' of', ' ', '201', '7', '!', ' I', ' hope', ' I', ' don', \"'t\", ' get', ' to', ' use', ' it', ' in', ' conversation', ' very', ' much', ',', ' though', '...'] False\n",
      "['What', \"'s\", ' your', ' daily', ' life', ' like', ' because', ' of', ' your', ' location', '?', ' ', ' Well', ' I', ' go', ' to', ' school', ',', ' do', ' homework', ',', ' go', ' on', ' Reddit', ',', ' and', ' try', ' to', ' be', ' social', '.', ' ', ' <|', 'newlinechar', '|>', ' ', ' <|', 'newlinechar', '|>', ' ', ' <|', 'newlinechar', '|>', ' ', ' <|', 'newlinechar', '|>', ' ', ' <|', 'newlinechar', '|>', ' '] False\n",
      "['Link', '?', ' https', '://', 'twitter', '.com', '/MahirZeynalov', '/status', '/', '815', '342', '740', '183', '588', '864', ' <|', 'newlinechar', '|>', ' ', ' <|', 'newlinechar', '|>', ' ', ' <|', 'newlinechar', '|>', ' That', ' being', ' said', ' who', ' knows', ' how', ' valid', ' source', ' is', '.', ' '] False\n",
      "['This', ' is', ' pretty', ' awesome', '.', ' Id', ' love', ' to', ' be', ' married', ' to', ' someone', ' that', ' made', ' me', ' awesome', ' DnD', ' stuff', '.', ' ', ' OP', ' needs', ' to', ' rig', ' that', ' with', ' some', ' gold', ' LEDs', ' that', ' turn', ' on', ' when', ' the', ' lid', ' opens', '.', ' ', ' Radiate', ' majesty', '!'] False\n",
      "['Is', ' Flygon', ' really', ' that', ' popular', '?', ' <|', 'newlinechar', '|>', ' ', ' <|', 'newlinechar', '|>', ' I', ' see', ' this', ' comment', ' all', ' the', ' time', ' but', ' I', ' don', \"'t\", ' actually', ' know', ' anyone', ' (', 'irl', ')', ' that', ' likes', ' him', ' at', ' all', ' Flygon', ' is', ' just', ' that', ' kid', ' that', ' everybody', \"'s\", ' cool', ' with', '.', ' Never', ' in', ' anybody', \"'s\", ' lil', ' group', ' of', ' ', '6', ' closest', ' friends', ' ever', ' since', ' gen', ' ', '3', ',', ' but', ' we', ' still', ' think', ' he', \"'s\", ' a', ' swell', ' guy', '.', ' '] False\n",
      "['Gun', '-Fire', '.co', '.uk', ' has', ' it', ' in', ' [', 'tan', '](', 'http', '://', 'gun', '-fire', '.co', '.uk', '/product', '-eng', '-', '115', '220', '412', '1', '-Amplifier', '-Flash', '-Hider', '-tan', '.html', ')', ' and', ' [', 'Black', '](', 'http', '://', 'gun', '-fire', '.co', '.uk', '/product', '-eng', '-', '115', '220', '412', '0', '-Amplifier', '-Flash', '-Hider', '-black', '.html', ')', ' NO', ' WAY', ' <|', 'newlinechar', '|>', ' ', ' <|', 'newlinechar', '|>', ' THANK', ' YOU', ' SO', ' MUCH'] False\n",
      "['Is', ' that', ' really', ' unreasonable', '?', ' Jeez', '.', ' ', ' since', ' we', ' have', ' to', ' pass', ' background', ' checks', ' for', ' guns', ' already', '?', ' yes', '.', ' let', ' me', ' ask', ' you', ' this', ',', ' would', ' you', ' find', ' it', ' unreasonable', ' to', ' have', ' to', ' pass', ' a', ' background', ' check', ' and', ' waiting', ' period', ' to', ' buy', ' a', ' six', ' pack', ' of', ' beer', '?', ' alcohol', ' kills', ' more', ' people', ' than', ' guns', ' do', ' annually', ' '] False\n",
      "['What', ' with', ' the', \" '\", 'London', ' is', ' open', \"'\", ' following', ' the', ' multilingual', ' opening', ',', ' it', ' definitely', ' sounded', ' like', ' there', ' was', ' a', ' message', ' there', '.', ' Would', ' probably', ' play', ' well', ' to', ' the', ' London', ' audience', ',', ' at', ' least', '.', ' I', ' think', ' they', ' meant', ' to', ' say', \" '\", 'The', ' UK', \"'s\", ' rotting', ' corpse', ' is', ' ready', ' to', ' be', ' pecked', ' at', \"'.\", ' '] False\n",
      "['Ikr', '!', ' I', \"'ve\", ' been', ' doing', ' a', ' let', \"'s\", ' play', ' and', ' we', ' taken', ' him', ' on', ' ', '5', ' times', ' and', ' each', ' time', ' close', ' but', ' died', ' to', ' him', ' in', ' the', ' end', '.', ' I', ' actually', ' got', ' pinned', ' inside', ' the', ' nurse', \"'s\", ' house', ' when', ' he', ' was', ' at', ' ', '3', ' HP', ' and', ' he', ' killed', ' me', ' first', '.', ' I', \"'m\", ' surprised', ' I', ' didn', \"'t\", ' ragequit', ' right', ' then', ' and', ' there', ' (', 'though', ' I', ' did', ' a', ' few', ' characters', ' later', ' when', ' I', ' ran', ' out', ' of', ' supplies', ' of', ' hearts', '/stars', ' on', ' hardcore', ')'] False\n",
      "['I', ' love', ' being', ' on', ' the', ' west', ' coast', '.', ' We', ' get', ' to', ' watch', ' the', ' ball', ' drop', ' at', ' ', '9', 'pm', ' and', ' be', ' in', ' bed', ' before', ' ', '10', '.', ' Football', ' starts', ' at', ' ', '10', ' am', ' on', ' Sundays', '.', ' ', ' Sometimes', ' they', ' start', ' at', ' ', '6', 'am', ' for', ' you', ' guys', ' right', '?', ' Must', ' be', ' fun', ' waking', ' up', ' that', ' early', ' to', ' watch', '.', ' And', ' Monday', ' and', ' Thursday', ' night', ' games', ' are', ' at', ' ', '5', '.', ' Fun', ' times', ' to', ' be', ' watching', ' it', ' during', ' the', ' work', ' week', '.'] False\n",
      "['Yes', ' lets', ' shut', ' everything', ' down', ' because', ' a', ' terrorist', ' threatens', ' it', '.', ' ', ' I', ' cant', ' imagine', ' how', ' this', ' could', ' go', ' wrong', ' <|', 'newlinechar', '|>', ' ', ' <|', 'newlinechar', '|>', ' ', ' <|', 'newlinechar', '|>', ' Edit', ' PS', ' -', ' I', ' didn', \"'t\", ' say', ' how', ' to', ' defend', ' against', ' this', ',', ' I', ' just', ' said', ' shutting', ' down', ' would', ' be', ' ridiculous', '.', ' I', ' can', \"'t\", ' imagine', ' how', ' far', ' down', ' that', ' rabbit', ' hole', ' we', ' could', ' go', '.', ' How', ' about', ' tightened', ' security', ' for', ' starters', '?', ' I', ' just', ' got', ' back', ' from', ' NYC', ' and', ' the', ' train', ' station', ' had', ' *', 'a', ' lot', '*', ' of', ' police', '.', ' Which', ' is', ' a', ' smart', ' thing', ' to', ' do', '.', ' &', 'gt', ';CIA', ' warned', ' them', ' <|', 'newlinechar', '|>', ' ', ' <|', 'newlinechar', '|>', ' Imo', ' slightly', ' different'] False\n",
      "['Its', ' a', ' rx', ' ', '470', '.', ' And', ' it', ' was', ' hdmi', ' to', ' hdmi', ',', ' however', ' I', ' just', ' got', ' it', ' work', ' using', ' DVI', '.', ' Wondering', ' though', ' if', ' there', ' is', ' any', ' significant', ' differences', ' in', ' performance', ' between', ' dvi', ' and', ' hdmi', '.', ' ', ' Dvi', ' dual', ' link', ' is', ' good', ' to', ' ', '256', '0', 'x', '160', '0', ' @', ' ', '60', 'hz', '.', ' ', ' Similar', ' to', ' HDMI', ' specs', '.', '  ', ' However', ' HDMI', ' will', ' allow', ' ', '192', '0', 'x', '108', '0', ' at', ' ', '120', 'hz', ' as', ' well', '.', ' ', ' <|', 'newlinechar', '|>', ' ', ' <|', 'newlinechar', '|>', ' '] False\n",
      "['I', ' didn', \"'t\", ' say', ' that', '.', ' ', ' Stop', ' exaggerating', '.', ' I', ' would', ' be', ' fine', ' letting', ' them', ' in', ' if', ' they', ' were', ' more', ' properly', ' vetted', ' and', ' put', ' on', ' a', ' probationary', ' period', '.', ' Also', ' if', ' a', ' person', ' commits', ' an', ' act', ' of', ' terror', ' their', ' entire', ' family', ' should', ' be', ' deported', '.', ' ', ' &', 'gt', ';', ' I', ' would', ' be', ' fine', ' letting', ' them', ' in', ' if', ' they', ' were', ' more', ' properly', ' vetted', ' <|', 'newlinechar', '|>', ' ', ' <|', 'newlinechar', '|>', ' How', ' would', ' you', ' want', ' them', ' vetted', '?', ' <|', 'newlinechar', '|>', ' ', ' <|', 'newlinechar', '|>', \" '\", 'Yes', ',', ' I', ' believe', ' in', ' the', ' constitution', ' of', ' the', ' united', ' states', ' and', ' I', ' love', ' baseball', \".'\", ' <|', 'newlinechar', '|>', ' ', ' <|', 'newlinechar', '|>', ' Wow', '....', ' some', ' vetting', ' going', ' on', ' there', '.', ' I', ' feel', ' safer', ' already', '.', ' <|', 'newlinechar', '|>', ' ', ' <|', 'newlinechar', '|>', ' &', 'gt', ';Also', ' if', ' a', ' person', ' commits', ' an', ' act', ' of', ' terror', ' their', ' entire', ' family', ' should', ' be', ' deported', '.', ' ', ' <|', 'newlinechar', '|>', ' ', ' <|', 'newlinechar', '|>', ' So', ',', ' guilt', ' by', ' association', '.'] False\n",
      "['Haha', ' that', \"'s\", ' the', ' joke', '!', ' It', ' was', ' a', ' ', '99', '%', ' perfect', ' view', ' :)', ' Bargain', '!', ' I', \"'m\", ' curious', ' but', ' can', ' you', ' actually', ' see', ' the', ' ball', ' from', ' there', '?', ' Seems', ' a', ' bit', ' small', ' (', 'haven', \"'t\", ' been', ' to', ' a', ' stadium', ' before', ' so', ' sorry', ' if', ' it', \"'s\", ' a', ' stupid', ' question', ')'] False\n",
      "['I', ' have', ' no', ' opinion', ' on', ' it', ',', ' but', ' that', \"'s\", ' cuz', ' I', ' don', \"'t\", ' know', ' what', ' it', \"'s\", ' like', '.', ' ', ' <|', 'newlinechar', '|>', ' ', ' <|', 'newlinechar', '|>', ' There', ' has', ' to', ' be', ' something', ' unique', ' about', ' it', ',', ' surely', ' ', ' I', ' guess', ' it', \"'s\", ' great', ' for', ' hiking', ' and', ' biking', ' '] False\n",
      "['Me', ' too', ' :)', ' Hope', ' you', \"'re\", ' having', ' a', ' wonderful', ' New', ' Year', '!', ' So', ' far', ' so', ' good', ',', ' thanks', '!', ' I', ' hope', ' this', ' year', ' brings', ' you', ' lots', ' of', ' happiness', ' :)', ' '] False\n",
      "['Another', ' option', ' (', 'more', ' ethically', ' acceptable', ',', ' but', ' perhaps', ' not', ' very', ' accurate', ')', ' is', ' when', ' you', \"'re\", ' meeting', ' with', ' them', ' you', ' could', ' pull', ' up', ' the', ' comparison', ' pictures', ' and', ' have', ' them', ' look', ' at', ' them', ' and', ' estimate', ' to', ' the', ' best', ' of', ' their', ' ability', ' which', ' body', ' they', ' think', ' they', ' most', ' resemble', ' when', ' unclothed', '.', ' If', ' someone', ' I', ' was', ' meeting', ' with', ' for', ' nutrition', ' advice', ' handed', ' me', ' a', ' phone', ' or', ' iPad', ' or', ' something', ' and', ' said', ' estimate', ' which', ' one', ' you', ' most', ' resemble', ' I', ' would', ' in', ' no', ' way', ' shape', ' or', ' form', ' feel', ' awkward', ' or', ' uncomfortable', '.', ' Yes', ' this', ' might', ' be', ' misleading', ',', ' but', ' if', ' they', ' understand', ' that', ' the', ' more', ' honest', ' they', ' are', ' the', ' better', ' you', ' can', ' tailor', ' the', ' program', ' to', ' their', ' needs', ' and', ' success', ',', ' I', ' don', \"'t\", ' see', ' the', ' problem', '.', ' ', ' That', \"'s\", ' pretty', ' smart', '.', ' I', \"'ll\", ' print', ' and', ' laminate', ' the', ' pictures', ' most', ' likely', ' '] False\n",
      "['How', ' do', ' you', ' compare', ' it', ' to', ' civ', '?', ' I', ' find', ' civ', ' v', ' to', ' be', ' lacking', ' in', ' stimulation', ' after', ' a', ' few', ' hundred', ' games', '.', ' ', ' Only', ' ', '750', ' hours', ' on', ' civ', ' v'] False\n",
      "['I', ' don', \"'t\", ' have', ' any', '.', ' I', ' eat', ' well', ',', ' work', ' out', ',', ' work', ' hard', ' already', '.', ' If', ' there', \"'s\", ' something', ' I', ' want', ' to', ' do', ' I', ' usually', ' just', ' do', ' it', ' and', ' I', ' don', \"'t\", ' wait', ' to', ' resolve', ' to', ' do', ' it', '.', ' r', '/absolutelynotme', '_irl'] False\n",
      "['I', \"'m\", ' not', ' a', ' fan', ' of', ' Boundless', ' Ambition', '.', ' It', ' pairs', ' well', ' with', ' No', ' Mercy', ' but', ' it', ' is', ' almost', ' too', ' risky', '.', ' Starship', ' Graveyard', ' mitigates', ' this', ' a', ' little', ' but', ' you', ' can', ' only', ' pull', ' back', ' one', ' card', ' per', ' time', ' you', ' claim', ' it', '.', ' I', ' personally', ' think', ' Abandon', ' All', ' Hope', ' is', ' better', '.', ' I', ' use', ' it', ' in', ' most', ' all', ' my', ' Blue', ' villain', ' decks', '.', ' It', \"'s\", ' worth', ' noting', ' that', ' Starship', ' Graveyard', ' only', ' works', ' on', ' Support', ' and', ' Upgrade', ' cards', '.', ' It', \"'s\", ' not', ' going', ' to', ' be', ' quite', ' as', ' effective', ' in', ' an', ' event', '-heavy', ' deck', '.'] False\n",
      "['Yes', ',', ' they', ' do', ' work', '.', ' Anything', ' barrel', ' diameter', ' ', '1', '.', '25', ' works', '.', ' ', ' What', ' he', ' said', '.', ' '] False\n",
      "['This', ' is', ' very', ' true', ';', ' I', ' just', ' assumed', ' the', ' account', '/pet', ' was', ' still', ' around', ' when', ' OP', ' attempted', ' to', ' login', ' in', ' a', ' few', ' years', ' ago', ' haha', ' OH', ' GOD', ' A', ' ', '3', ' MINUTE', ' REPLY', '.', ' I', ' FEEL', ' SO', ' CREEPY'] False\n",
      "['A', ' bit', ' OT', '...', ' but', ' my', ' personal', ' view', ' is', ' that', ' federal', ' lands', ' belong', ' to', ' the', ' people', '.', ' Much', ' of', ' that', ' land', ' would', ' be', ' sold', ' to', ' mining', ' and', ' oil', ' production', ' interests', ',', ' so', ' it', ' would', ' be', ' lost', ' to', ' Americans', ' and', ' become', ' inaccessible', ' private', ' land', '.', ' ', ' <|', 'newlinechar', '|>', ' ', ' <|', 'newlinechar', '|>', ' From', ' an', ' environmental', ' standpoint', ',', ' the', ' natural', ' environs', ' would', ' be', ' destroyed', ' and', ' we', ' would', ' lose', ' something', ' increasingly', ' valuable', ' for', ' future', ' generations', '.', ' <|', 'newlinechar', '|>', ' ', ' <|', 'newlinechar', '|>', ' From', ' an', ' ownership', ' standpoint', ',', ' we', ' would', ' likely', ' sell', ' those', ' lands', ' at', ' far', ' below', ' their', ' real', ' value', ' and', ' it', ' would', ' end', ' up', ' doing', ' nothing', ' more', ' but', ' enriching', ' the', ' wealthy', ' and', ' corporations', ' at', ' the', ' cost', ' of', ' the', ' taxpayers', '.', ' Some', ' might', ' point', ' out', ' that', ' it', ' would', ' produce', ' jobs', '.', ' Yes', '.', ' Some', ' temporary', ' jobs', ',', ' but', ' nothing', ' significant', ' in', ' the', ' longer', ' term', '.', ' ', ' I', \"'m\", ' not', ' saying', ' you', \"'re\", ' wrong', ',', ' though', ' I', ' live', ' in', ' a', ' state', ' where', ' the', ' vast', ' majority', ' of', ' land', ' is', ' Federal', ' Land', ' and', ' many', ' folks', ' here', ' have', ' a', ',', \" '\", 'less', ' than', ' desirable', \"'\", ' opinion', ' of', ' the', ' BLM', '.', ' ', ' Also', ',', ' most', ' folks', ' in', ' non', '-BLM', ' states', ' aren', \"'t\", ' aware', ' that', ' Federal', ' land', ' is', ' cut', ' up', ' in', ' sections', ' that', ' connect', ' to', ' private', ' property', '.', ' ', ' Not', ' saying', ' you', ' specifically', ',', ' but', ' a', ' lot', ' of', ' folks', ' assume', ' that', ' buying', ' Federal', ' land', ' means', ' that', ' large', ' swathes', ' of', ' acreage', ' would', ' become', ' private', ' property', ',', ' but', ' out', ' here', ' Federal', ' Land', ' is', ' cut', ' up', ' into', ' ', '640', ' acre', ' square', ' parcels', ' surrounded', ' on', ' all', ' sides', ' by', ' private', ' land', '.', ' ', ' Basically', ' picture', ' a', ' checker', ' board', '.', ' ', ' You', \"'d\", ' have', ' to', ' already', ' own', ' a', ' large', ' portion', ' of', ' preexisting', ' land', ' in', ' order', ' to', ' have', ' control', ' over', ' a', ' large', ' amount', ' of', ' property', '.', ' ', ' <|', 'newlinechar', '|>', ' ', ' <|', 'newlinechar', '|>', ' Also', ',', ' the', ' Mining', ' industry', ' is', ' what', ' keeps', ' my', ' entire', ' moderately', ' populated', ' town', ' alive', '.', ' ', ' Miners', ' are', ' the', ' lifeblood', ' out', ' here', ' and', ' it', \"'s\", ' evident', ' everywhere', ' you', ' go', '.', ' ', ' The', ' mines', ' have', ' enough', ' ore', ' to', ' stay', ' in', ' business', ' for', ' the', ' next', ' ', '80', ' years', ',', ' which', ' I', ' would', ' argue', ' isn', \"'t\", ' exactly', ' a', \" '\", 'temporary', ' job', \"'\", ' as', ' it', ' extends', ' beyond', ' our', ' generation', '.', ' ', ' <|', 'newlinechar', '|>', ' ', ' <|', 'newlinechar', '|>', ' Though', ' if', ' your', ' core', ' argument', ' is', ' responsible', ' use', ' of', ' the', ' land', ' sold', ',', ' then', ' I', ' completely', ' agree', '.', ' ', ' There', ' is', ' a', ' fine', ' line', ' between', ' creating', ' sustainable', ' jobs', ' and', ' respecting', ' nature', ' at', ' the', ' same', ' time', '.', ' ', ' If', ' the', ' mines', ' were', ' harming', ' the', ' environment', ' it', ' invalidate', ' my', ' argument', '.', ' '] False\n",
      "['More', ' info', ' on', ' purple', '?', ' <|', 'newlinechar', '|>', ' ', ' [', 'here', '](', 'http', '://', 'www', '.zerohedge', '.com', '/news', '/', '201', '6', '-', '11', '-', '11', '/clintons', '-and', '-soros', '-launch', '-americas', '-purple', '-revolution', ')'] False\n",
      "['So', ' you', ' want', ' to', ' be', ' stealthy', ' but', ' you', ' have', ' ', '10', ' minutes', ' to', ' spare', ' whilst', ' casting', ' the', ' spell', '?', ' Maybe', ' there', \"'s\", ' a', ' distraction', ' in', ' the', ' other', ' part', ' of', ' the', ' castle', ' that', ' contains', ' whatever', ' your', ' after', ',', ' or', ' you', ' paid', ' off', ' the', ' guard', ' who', ' normally', ' patrols', ' down', ' that', ' street', ' but', ' you', ' don', \"'t\", ' want', ' to', ' alarm', ' the', ' others', ' when', ' you', \"'re\", ' digging', ' into', ' the', ' sewer', '.', ' ', ' Sometimes', ',', ' proper', ' planning', ' trumps', ' speed', '.', ' ', ' The', ' point', ' is', ' that', ' it', ' can', ' come', ' in', ' handy', ' even', ' if', ' it', ' doesn', \"'t\", ' always', '.'] False\n",
      "['Basically', ',', ' once', ' you', ' craft', ' a', ' certain', ' Warframe', ',', ' you', ' can', ' gain', ' access', ' to', ' a', ' new', ' room', ' in', ' your', ' Orbiter', ' which', ' infects', ' the', ' Warframe', ' with', ' a', ' cyst', ' that', ' can', ' be', ' spread', ' to', ' other', ' players', \"'\", ' Warframes', ' through', ' contact', '.', ' The', ' only', ' way', ' to', ' get', ' rid', ' of', ' the', ' cyst', ' at', ' the', ' moment', ' is', ' to', ' turn', ' it', ' into', ' a', ' pet', ',', ' which', ' requires', ' a', ' stasis', ' slot', ' and', ' Kubrow', ' egg', ' and', ' can', ' only', ' be', ' done', ' a', ' week', ' after', ' contracting', ' it', '.', ' Furthermore', ',', ' draining', ' the', ' cyst', ' doesn', \"'t\", ' seem', ' to', ' give', ' your', ' Warframes', ' immunity', ',', ' so', ' you', ' can', ' potentially', ' get', ' reinfected', ' infinitely', '.', ' Since', ' the', ' cyst', ' is', ' bright', ' pink', ',', ' it', ' tends', ' to', ' clash', ' with', ' most', ' people', \"'s\", ' color', ' schemes', '.', ' Obviously', ' the', ' solution', ' here', ' is', ' to', ' make', ' all', ' your', ' warframes', ' bright', ' pink', '.'] False\n",
      "['He', ' released', ' it', '?', ' No', ' :(', ' '] False\n",
      "['If', ' a', ' big', ' part', ' of', ' it', ' is', ' computational', ' cost', ',', ' does', ' that', ' mean', ' it', \"'s\", ' possible', ' to', ' naturally', ' generate', ' a', ' synthetic', ' voice', ',', ' but', ' not', ' in', ' real', ' time', '?', ' Like', ' even', ' though', ' it', ' only', ' takes', ' a', ' couple', ' seconds', ' to', ' say', \" '\", 'Hello', ',', ' nice', ' to', ' meet', ' you', \".'\", ' that', ' you', ' could', ' generate', ' a', ' naturally', ' sounding', ' voice', ' clip', ' of', ' that', ' phrase', ' in', ' a', ' few', ' hours', '?', ' Assuming', ' of', ' course', ' that', ' all', ' the', ' necessary', ' context', ' was', ' understood', ' as', ' well', '?', ' Absolutely', ',', ' given', ' enough', ' data', '.', ' As', ' /', 'u', '/haabilo', ' and', ' /', 'u', '/littlebitsofspider', ' wrote', ',', ' there', ' are', ' machine', ' learning', ' implementations', ' of', ' algorithms', ' that', ' accomplish', ' just', ' that', '.', ' '] False\n",
      "['bring', ' lube', ' plz', ' Do', ' it', ' for', ' the', ' D', '.'] False\n",
      "['It', \"'s\", ' ^', 'Mr', '.', ' General', ' Squatch', ' to', ' you', ' maggot', '!', ' Yes', ' sir', '.'] False\n",
      "['$', '20', ',', '000', ' is', ' a', ' lot', ' of', ' money', ' in', ' India', '.', ' You', ' can', ' basically', ' live', ' like', ' king', ' with', ' that', ' much', ' money', '.', ' So', ' if', ' my', ' salary', ' goes', ' up', ' to', ' $', '100', ' ', '000', ' USD', ' for', ' ', '5', ' years', ' I', ' could', ' save', ' up', ' enough', ' money', ' to', ' move', ' to', ' India', ' and', ' retire', ' at', ' age', ' ', '30', '?', ' <|', 'newlinechar', '|>', ' ', ' <|', 'newlinechar', '|>', ' Or', ' I', ' could', ' just', ' buy', ' up', ' ten', ' different', ' expensive', ' properties', ' and', ' rent', ' them', ' out', ' to', ' Indian', ' professionals', '?', ' <|', 'newlinechar', '|>', ' ', ' <|', 'newlinechar', '|>', ' I', ' don', \"'t\", ' get', ' how', ' it', \"'s\", ' possible', ' for', ' such', ' huge', ' differentials', ' to', ' exist', '.', ' It', ' feels', ' dirty', ' but', ' that', \"'s\", ' just', ' a', ' goldmine', ' waiting', ' to', ' be', ' exploited', ' if', ' our', ' wages', ' really', ' are', ' that', ' different', '.', ' How', ' do', ' they', ' afford', ' airfare', '?', ' It', ' sounds', ' like', ' any', ' person', ' from', ' a', ' third', ' world', ' country', ' who', ' ever', ' comes', ' here', ' must', ' be', ' a', ' millionaire', '.'] False\n",
      "['What', '?', ' He', ' left', ' a', ' comment', ' on', ' that', ' post', ' and', ' wants', ' people', ' to', ' go', ' read', ' it', '*.'] False\n",
      "['Who', ' are', ' you', ' in', ' the', ' picture', '?', ' :)', ' ', ' I', \"'m\", ' guessing', ' OP', ' is', ' the', ' lonely', ' one', '.'] False\n",
      "['I', ' *', 'think', ' it', \"'s\", ' on', ' Hulu', ' Nope', ' just', ' checked', '.'] False\n",
      "['Haven', \"'t\", ' tried', ' it', ' yet', ',', ' I', ' just', ' picked', ' it', ' up', ' because', ' I', ' figured', ' the', ' screwdrivers', ' alone', ' were', ' worth', ' almost', ' the', ' price', '.', ' I', ' have', ' a', ' bigger', ' Klein', ' meter', ' at', ' work', ' that', ' I', \"'m\", ' not', ' too', ' thrilled', ' with', ',', ' prefer', ' my', ' Fluke', '.', ' I', ' have', ' a', ' Klein', ' clamp', '-on', ' in', ' the', ' van', ',', ' my', ' Fluke', ' gets', ' all', ' the', ' action', ' though', '.', ' '] False\n",
      "['of', ' her', ' best', ' friend', \"'s\", ' ride', ' trying', ' to', ' holla', ' at', ' me'] False\n",
      "['I', ' can', ' go', ' back', ' and', ' get', ' it', '.', ' ', ' Please', ' if', ' you', ' can', ',', ' it', \"'s\", ' a', ' rare', ' occasion', ' to', ' have', ' it', ' that', ' clear'] False\n",
      "['It', \"'s\", ' ok', '.', ' Man', '.', ' We', ' will', ' all', ' make', ' it', ' some', ' way', '.', ' Unfortunalty', ' not', ' the', ' way', ' we', ' want', '.', ' '] False\n",
      "['Je', ' peux', ' te', ' garantir', ' que', ' des', ' opérations', ' stop', ' se', ' font', ' à', ' chaque', ' avec', ' le', ' spvm', '.', ' J', \"'ai\", ' moi', ' même', ' été', ' victime', ' de', ' ces', ' traps', ' à', ' tickets', '.', ' Donc', ' rouler', ' ', '15', ' de', ' plus', ' que', ' la', ' limite', ' c', \"'est\", ' pas', ' grave', '?', ' what', ' about', ' ', '20', ' or', ' ', '30', '?', ' Tu', ' peux', ' pas', ' dire', ' que', ' c', \"'est\", ' niaiseux', ' d', \"'enforce\", ' ces', ' lois', ' là', '.', '  ', ' It', \"'s\", ' all', ' very', ' situational', ' and', ' subjective', '.', ' In', ' some', ' places', ' I', \"'d\", ' say', ' being', ' ', '20', ' or', ' even', ' ', '30', ' over', ' the', ' currently', ' posted', ' speed', ' limits', ' wouldn', \"'t\", ' be', ' an', ' issue', '.', ' Others', ' might', ' disagree', '.', ' ', ' <|', 'newlinechar', '|>', ' ', ' <|', 'newlinechar', '|>', ' My', ' point', ' is', ' that', ' they', ' appear', ' more', ' concerned', ' with', ' catching', ' lots', ' of', ' people', ' in', ' an', ' area', ' with', ' few', ' accidents', ' than', ' stopping', ' people', ' that', ' might', ' actually', ' be', ' dangerous', '.', ' ', ' <|', 'newlinechar', '|>', ' ', ' <|', 'newlinechar', '|>', ' '] False\n",
      "['Hats', ' off', ' to', ' you', ' for', ' great', ' progress', '!', ' ', ' Thank', ' you', '!', ' :)'] False\n",
      "['hmmm', ',', ' then', ' i', ' guess', ' vaseline', ' Perfect', ' '] False\n",
      "['Who', ' cares', ' if', ' users', ' are', \" '\", 'toxic', \"'?\", ' Every', ' fighter', ' has', ' fanboys', ' and', ' detractors', '.', ' ', ' Because', ' every', ' person', ' has', ' control', ' of', ' themselves', ',', ' and', ' if', ' they', ' each', ' individually', ' tried', ' to', ' be', ' a', ' bigger', ' person', ' then', ' it', ' wouldn', \"'t\", ' be', ' like', ' this', '.', ' But', ' people', ' excuse', ' it', ',', ' they', ' see', ' that', ' the', ' other', ' guy', ' isn', \"'t\", ' doing', ' it', ',', ' so', ' why', ' should', ' they', ',', ' and', ' don', \"'t\", ' band', ' against', ' it', ' as', ' unwanted', ' on', ' this', ' sub', ' and', ' so', ' it', ' continues', ' on', '.', ' Sub', \"'s\", ' have', ' cultures', '.', ' Go', ' into', ' trollxchromosomes', ' and', ' see', ' how', ' positive', ' that', ' place', ' is', '.', ' They', \"'re\", ' incredibly', ' compassionate', ' and', ' supportive', ' to', ' one', ' another', '.', ' Yet', ' here', ' for', ' whatever', ' reason', ',', ' on', ' this', ' sub', ' the', ' majority', ' of', ' people', ' get', ' their', ' joy', ' from', ' belittling', ' fighters', ' and', ' each', ' other', '.'] False\n",
      "['*Fast', ' claps', '*', ' What', \"'s\", \" '\", 'piw', \"'\", ' supposed', ' to', ' be', '?', \" '\", 'pew', \"'\", ' <|', 'newlinechar', '|>', ' ', ' <|', 'newlinechar', '|>', ' You', ' really', ' didn', \"'t\", ' get', ' that', '?', ' lol'] False\n",
      "['That', \"'s\", ' red', ' pill', ' summed', ' up', ' in', ' a', ' slightly', ' sugar', '-coated', ' one', '-liner', '.', ' No', ',', ' it', \"'s\", ' about', ' having', ' mature', ' and', ' healthy', ' relationships', '.', ' Constantly', ' worrying', ' about', ' your', ' partner', \"'s\", ' happiness', ' and', ' ignoring', ' your', ' own', ' needs', ' is', ' not', ' healthy', '.', ' For', ' those', ' of', ' us', ' who', ' always', ' struggle', ' to', ' please', ' everyone', ' and', ' don', \"'t\", ' value', ' our', ' own', ' needs', ',', ' it', \"'s\", ' important', ' to', ' remember', ' that', ' we', ' *', 'do', '*', ' deserve', ' to', ' be', ' happy', '.'] False\n",
      "['It', \"'s\", ' faux', ' because', ' it', ' doesn', \"'t\", ' truly', ' use', ' pixel', ' sorting', ' or', ' a', ' glitch', ' to', ' generate', ' the', ' image', ',', ' not', ' because', ' it', ' lacks', ' inherent', ' value', '.', ' There', ' isn', \"'t\", ' even', ' such', ' thing', ' as', ' pixel', ' bending', '.', ' It', \"'s\", ' pixel', ' sorting', ' or', ' databending', '.', ' <|', 'newlinechar', '|>', ' ', ' <|', 'newlinechar', '|>', ' It', \"'s\", ' like', ' the', ' difference', ' between', ' true', ' guitar', ' overdrive', ' caused', ' by', ' sending', ' the', ' gain', ' up', ' to', ' high', ' versus', ' a', \" '\", 'faux', \"'\", ' digital', ' preset', ' designed', ' to', ' replicate', ' the', ' sonic', ' qualities', ' of', ' an', ' overdriven', ' guitar', '.', ' Faux', ' is', ' not', ' a', ' value', ' judgment', ' in', ' this', ' case', '.', ' thanks', ',', ' as', ' a', ' guitar', ' player', ',', ' I', ' approve', ' of', ' this', ' ELI', '5'] False\n",
      "['Labour', ' will', ' sink', ' to', ' ~', '20', '%', ' in', ' polls', ' ', ' <|', 'newlinechar', '|>', ' ', ' <|', 'newlinechar', '|>', ' Paul', ' Nuttall', ' will', ' quit', ' ', ' <|', 'newlinechar', '|>', ' ', ' <|', 'newlinechar', '|>', ' Theresa', ' May', ' will', ' fall', ' in', ' approval', ' ratings', ' during', ' Brexit', ' negotiations', ' resulting', ' in', ' a', ' UKIP', ' and', ' Lib', ' Dem', ' rise', ' in', ' polls', ' ', ' <|', 'newlinechar', '|>', ' ', ' <|', 'newlinechar', '|>', ' SNP', ' will', ' set', ' a', ' date', ' for', ' indyref', '2', ' ', ' <|', 'newlinechar', '|>', ' ', ' <|', 'newlinechar', '|>', ' Depressing', ' levels', ' of', ' anger', ' and', ' bile', ' will', ' come', ' from', ' both', ' sides', ' of', ' the', ' Brexit', ' buffoonery', '.', ' ', ' &', 'gt', ';', ' Labour', ' will', ' sink', ' to', ' ~', '20', '%', ' in', ' polls', ' <|', 'newlinechar', '|>', ' ', ' <|', 'newlinechar', '|>', ' They', ' are', ' already', ' polling', ' ', '15', '%', ' in', ' Glasgow', ',', ' which', ' begs', ' the', ' question', ' as', ' to', ' just', ' how', ' low', ' they', ' will', ' sink', ' in', ' May', \"'s\", ' elections', '.', ' <|', 'newlinechar', '|>', ' ', ' <|', 'newlinechar', '|>', ' &', 'gt', ';', ' SNP', ' will', ' set', ' a', ' date', ' for', ' indyref', '2', ' <|', 'newlinechar', '|>', ' ', ' <|', 'newlinechar', '|>', ' That', \"'s\", ' all', ' going', ' to', ' depend', ' on', ' the', ' opinion', ' polls', '.', ' They', ' won', \"'t\", ' call', ' one', ' that', ' they', ' aren', \"'t\", ' confident', ' of', ' winning', '.'] False\n",
      "['Crown', '?', ' Weren', \"'t\", ' they', ' local', ' to', ' SWMO', '?', ' If', ' you', ' had', ' said', ' Video', ' West', ' I', \"'d\", ' think', ' you', ' were', ' for', ' sure', ' in', ' Joplin', '.', ' Yeah', ' that', ' general', ' area', ' two', ' decades', ' ago', ' but', ' not', ' Joplin', ' specifically', '.', ' '] False\n",
      "['deleted', ' the', ' file', ' and', ' restarted', ' the', ' game', ',', ' still', ' have', ' the', ' same', ' issue', '.', ' What', ' happens', ' if', ' you', ' try', ' running', ' in', ' windowed', ' or', ' fullscreen', ' windowed', '?', ' <|', 'newlinechar', '|>', ' ', ' <|', 'newlinechar', '|>', ' EDIT', ':', ' In', ' your', \" '\", 'username', '.Arma', '3', 'Profile', \"'\", ' file', ' in', ' the', \" '\", 'Arma', ' ', '3', ' -', ' Other', ' Profiles', \"'\", ' folder', ' find', ' the', ' line', \" '\", 'tripleHead', \"'\", ' and', ' make', ' sure', ' it', ' is', ' set', ' to', ' ', '0'] False\n",
      "['Oddly', ' most', ' of', ' my', ' lesbian', ' friends', ' are', ' massive', ' Ronda', ' fans', '.', ' But', ' I', ' feel', ' you', ' are', ' right', ',', ' it', \"'s\", ' an', ' angle', ' worth', ' exploiting', '.', ' Need', ' to', ' be', ' careful', ' promoting', ' on', ' that', ' basis', ' tho', ',', ' it', ' might', ' seem', \" '\", 'cheap', \"'\", ' if', ' not', ' done', ' tastefully', '.', ' Oh', ',', ' for', ' sure', '.'] False\n",
      "['Is', ' he', ' talking', ' about', ' the', ' beta', ' fleet', '?', ' Last', ' I', ' checked', ' it', ' was', ' around', ' ', '600', ' cars', ' (', 'mainly', ' Tesla', ' family', ' and', ' friends', '),', ' but', ' they', ' probably', ' selected', ' a', ' new', ' group', ' with', ' just', ' AP', '2', ' hardware', '.', ' I', \"'m\", ' hoping', ' that', ' it', ' is', ' a', ' beta', ' fleet', '.', ' Also', ' hoping', ' that', ' Tesla', ' is', ' not', ' rushing', ' this', ' new', ' tech', ' out', ' too', ' fast', '.', ' Very', ' excited', ' though', '!'] False\n",
      "['Good', ' choices', '!', ' ', ' May', ' I', ' reccomend', ' you', ' reading', ' the', ' Stand', ' after', ' if', ' you', ' haven', \"'t\", ' already', '?', ' ~~', 'I', ' wouldn', \"'t\", ' recommend', ' that', ' for', ' a', ' starter', ' book', ' tbh', '~~', ' <|', 'newlinechar', '|>', ' ', ' <|', 'newlinechar', '|>', ' Never', ' mind', '.', ' Go', ' for', ' it', ' OP', '.'] False\n",
      "['Back', ' in', ' line', ' from', ' doing', ' what', ' exactly', '?', ' ', ' Batman', ' has', ' an', ' idea', ' or', ' thought', ' that', ' Superman', ' MIGHT', ' be', ' dangerous', ',', ' but', ' he', ' has', ' no', ' proof', '.', ' ', ' A', ' more', ' Batmanish', ' way', ' to', ' do', ' things', ' would', ' be', ' to', ' investigate', ',', ' gather', ' evidence', ' and', ' then', ' act', '.', ' <|', 'newlinechar', '|>', ' ', ' <|', 'newlinechar', '|>', ' Traditional', ' Batman', ' would', \"'ve\", ' figured', ' out', ' that', ' Luther', ' was', ' behind', ' the', ' explosion', '.', ' ', ' He', ' wouldn', \"'t\", ' watch', ' Superman', ' walk', ' from', ' the', ' rubble', ' and', ' conclude', ',', ' along', ' with', ' every', ' other', ' beer', ' drinking', ',', ' quick', ' to', ' react', ' peasant', ' on', ' the', ' street', ',', ' that', ' clearly', ' Superman', ' is', ' behind', ' it', ' all', '.', '  ', ' <|', 'newlinechar', '|>', ' ', ' <|', 'newlinechar', '|>', ' Stupid', ' decisions', ' by', ' stupid', ' characters', '.', ' Right', ',', ' but', ' this', ' movie', ' wasn', \"'t\", ' about', ' traditional', ' Batman', '...'] False\n",
      "['Karona', ' Voltron', '.', ' See', ' if', ' you', ' can', ' get', ' by', ' with', ' a', ' little', ' help', ' from', ' your', ' friends', '.', ' <|', 'newlinechar', '|>', ' ', ' <|', 'newlinechar', '|>', ' Cromat', ' charms', '.', ' Like', ',', ' all', ' the', ' charms', '.', ' If', ' you', \"'re\", ' feeling', ' more', \" '\", 'competitive', \"',\", ' maybe', ' expand', ' it', ' to', ' all', ' modal', ' spells', '?', ' Reaper', ' King', ' Clones', '.', ' In', ' addition', ' to', ' the', ' clones', ' themselves', ',', ' run', ' all', ' the', ' creatures', ' that', ' have', \" '\", 'and', ' gain', ' this', ' ability', \"'\", ' in', ' their', ' text', '.', ' Simple', ' example', ':', ' Cryptoplasm', ' copying', ' Mirror', '-Sigil', ' Sergeant', '.'] False\n",
      "['And', ' how', ' the', ' wife', ' tried', ' to', ' call', ' the', ' police', '.', ' *', 'On', ' the', ' customers', '.*', ' And', ' then', ' the', ' husband', ' (', 'who', ' clearly', ' knows', ' he', \"'s\", ' in', ' the', ' wrong', ')', ' immediately', ' pulls', ' a', ' ', '180', ' on', ' his', ' wife', ' in', ' a', ' panic', ' to', ' keep', ' her', ' from', ' calling', ' cops', '.', '  '] False\n",
      "['Let', \"'s\", ' go', ' down', ' a', ' checklist', ' :)', ' <|', 'newlinechar', '|>', ' ', ' <|', 'newlinechar', '|>', ' Have', ' you', ' turned', ' it', ' on', '?', ' haha', ' yes', ' I', ' have', ' pressed', ' ', '5', ' times', ' and', ' the', ' display', ' is', ' showing', '.', ' Whenever', ' i', ' press', ' to', ' take', ' a', ' hit', ' there', ' is', ' no', ' noise', ' whatsoever', ' of', ' a', ' reaction', ' to', ' produce', ' any', ' vapor'] False\n",
      "['Follow', ' the', ' lead', ' of', ' the', ' Trump', ' voters', ':', ' Just', ' don', \"'t\", ' process', ' the', ' double', ' standards', '.', ' ', ' Trump', ' tells', ' a', ' lie', '?', ' ', ' Blame', ' the', ' media', '.', ' ', ' Clinton', ' tells', ' a', ' lie', '?', ' ', ' Promise', ' to', ' put', ' her', ' in', ' jail', '.', '  ', ' Ahhh', ' thank', ' you', '.', ' I', ' feel', ' better', ' already', '.', ' '] False\n",
      "['then', ' we', ' have', ' to', ' see', ' their', ' toilet', ' seat', ' logo', ' on', ' this', ' sub', ' i', ' mean', ' we', ' already', ' see', ' it', ' on', ' the', ' left', ',', ' why', ' not', ' making', ' it', ' the', ' downvote', ' symbol'] False\n",
      "['Foundation', ':', ' MUF', ' HD', ' -', ' R', '260', ' <|', 'newlinechar', '|>', ' Lip', ' color', ':', ' Colourpop', ' -', ' Man', ' Eater', ' <|', 'newlinechar', '|>', ' Eyebrows', ':', ' ABH', ' dipbrow', '-', ' Chocolate', ' ', ' <|', 'newlinechar', '|>', ' Blush', ':', ' Nars', '-', ' Orgasm', ' <|', 'newlinechar', '|>', ' Contour', ':', ' Too', ' Faced', ' -', ' Chocolate', ' Soleil', ' <|', 'newlinechar', '|>', ' Shadow', ':', ' YSL', ' -', ' Couture', ' pallet', ' ', '2', ' <|', 'newlinechar', '|>', ' Glitter', ':', ' Stilla', ' -', ' Magnificent', ' Metals', ' Smoldering', ' Satin', ' <|', 'newlinechar', '|>', ' ', ' <|', 'newlinechar', '|>', ' ', ' I', ' just', ' got', ' a', ' Stila', ' eye', ' glitter', ' (', 'kitten', ' karma', '),', ' and', ' I', ' am', ' so', ' in', ' love', ' with', ' it', ',', ' looks', ' so', ' good', ' on', ' you', ',', ' I', ' may', ' have', ' to', ' buy', ' this', ' one', ' too', '!'] False\n",
      "['Even', ' in', ' PE', '?', ' nah', '.', ' outside', '.', ' No', ' running', ' on', ' bone', ' dry', ' pavement', ' because', ' we', ' might', ' slip', '.'] False\n",
      "['Poor', ' guy', ' just', ' had', ' some', ' rock', ' in', ' his', ' boots', '.', ' ', ' Here', ' <|', 'newlinechar', '|>', ' ', ' <|', 'newlinechar', '|>', ' https', '://', 'www', '.youtube', '.com', '/shared', '?ci', '=AgKV', '5', 'N', '10', 'iCE'] False\n",
      "['This', ' was', ' posted', ' before', ',', ' and', ' not', ' even', ' by', ' this', ' account', '.', ' Weird', ' how', ' much', ' people', ' want', ' attention', '.', ' That', ' was', ' me', ' on', ' an', ' old', ' account', '.', ' Also', ' I', ' have', ' updated', ' and', ' have', ' removed', ' some', ' things', ' since', ' then', '.', ' '] False\n",
      "['maybe', ' swap', ' out', ' one', ' mirage', ' for', ' limbo', ' so', ' it', ' could', ' go', ' through', ' the', ' rift', ' color', ' filter', '^^', 'tm', ' You', ' monster', '.'] False\n",
      "['Cool', ' read', ' and', ' very', ' interesting', ' idea', ',', ' thank', ' you', ' for', ' sharing', '!', ' ', ' I', ' agree', ' with', ' it', ' in', ' a', ' sense', ' because', ' I', ' am', ' aware', ' and', ' agree', ' with', ' the', ' fact', ' that', ' she', ' can', ' choose', ' to', ' leave', ' any', ' time', ' she', ' wants', ',', ' but', ' just', ' as', ' well', ' I', ' understand', ' I', ' can', ' leave', ' any', ' time', ' I', ' want', '.', ' ', ' And', ' I', \"'m\", ' okay', ' with', ' that', '.', ' ', ' The', ' way', ' I', ' grow', ' may', ' not', ' work', ' for', ' her', '.', '  ', ' The', ' way', ' I', ' grow', ' may', ' cause', ' her', ' to', ' not', ' work', ' for', ' me', '.', ' ', ' No', ' commitment', '.', ' ', ' Mutual', ' benefit', ' for', ' as', ' long', ' as', ' it', ' lasts', '.', ' ', ' Right', '.', ' So', ',', ' you', \"'ve\", ' renamed', \" '\", 'FriendsWithBenefits', \"'\", ' as', \" '\", 'Mutual', ' Benefit', \"'.\", ' <|', 'newlinechar', '|>', ' ', ' <|', 'newlinechar', '|>', ' She', \"'s\", ' not', ' your', ' gurl', '...', 'it', \"'s\", ' just', ' your', ' turn', '.'] False\n",
      "['Nice', ' <|', 'newlinechar', '|>', ' ', ' Nice'] False\n",
      "['Or', ' somebody', ' who', ' has', ' ever', ' played', ' a', ' game', ' with', ' more', ' than', ' one', ' character', '....', 'who', ' said', ' in', ' their', ' post', ' that', ' they', \"'re\", ' a', ' gamer', '.....', 'and', ' that', ' they', ' played', ' this', ' game', ' in', ' beta', '.', ' But', ' why', ' have', ' reading', ' comprehension', ' when', ' you', ' can', ' call', ' everything', ' fake', '?', ' Their', ' posts', ' line', ' up', ' way', ' too', ' perfectly', '.', ' ', ' I', \"'m\", ' open', ' minded', ' to', ' not', ' believe', ' everything', ' that', ' I', ' read', ' on', ' the', ' internets', '.', ' ', ' But', ' why', ' have', ' a', ' brain', ' when', ' people', ' can', ' spoon', ' feed', ' you', ' what', ' they', ' want', ' you', ' to', ' believe', '?', ' '] False\n",
      "['Not', ' really', ' it', \"'s\", ' just', ' that', ' people', ' care', ' more', ' for', ' animals', ' or', ' people', ' that', ' they', ' know', ' rather', ' than', ' a', ' bus', ' of', ' kids', ' they', ' have', ' no', ' attachment', ' to', '.', ' So', '...', ' Still', ' ridiculous', ' amounts', ' of', ' narcissism', '?', ' Valuing', ' their', ' dog', ' over', ' the', ' lives', ' of', ' ', '20', '+', ' children', ' is', ' not', ' nearly', ' as', ' logical', ' as', ' you', ' try', ' to', ' make', ' it', ' sound', '.'] False\n",
      "['How', ' much', ' was', ' the', ' tip', '?', ' Almost', ' $', '20', ' so', ' it', ' was', ' well', ' worth', ' the', ' time', ' '] False\n",
      "['pretty', ' much', '.', ' ', ' It', \"'s\", ' not', ' like', ' anyone', ' wants', ' buffs', '.', ' ', ' Or', ' is', ' willing', ' to', ' accept', ' buffs', '.', ' The', ' only', ' thing', ' wrel', ' is', ' going', ' to', ' do', ' is', ' nerf', ' em', ' anytime', ' someone', ' complains', '.', ' There', \"'s\", ' some', ' new', ' empire', ' specific', ' sunderer', ' weapons', ' in', ' the', ' line', ' up', '.', ' ', ' <|', 'newlinechar', '|>', ' ', ' <|', 'newlinechar', '|>', ' Gotta', ' nerf', ' the', ' current', ' ones', ' a', ' bit', ' earlier', ' so', ' that', ' people', ' have', ' a', ' reason', ' to', ' go', ' buy', ' the', ' new', ' flavor', '.', ' <|', 'newlinechar', '|>', ' ', ' <|', 'newlinechar', '|>', ' I', ' mean', ',', ' perfectly', ' balance', ' the', ' current', ' weapons', ' first', '.'] False\n",
      "['Lol', ' not', ' wanting', ' to', ' cheat', ',', ' so', ' she', ' gives', ' blowjobs', '.', ' ', ' If', ' that', \"'s\", ' the', ' case', ',', ' that', \"'s\", ' some', ' interesting', ' logic', ' on', ' her', ' part', '.', ' Some', ' people', ' think', ' that', ' if', ' it', \"'s\", ' not', ' penis', ' in', ' vagina', ' it', \"'s\", ' not', ' sex', '/sexual'] False\n",
      "['[Youtube', '](', 'https', '://', 'www', '.youtube', '.com', '/watch', '?v', '=FFzwSOVEFFU', ')', ' Obrigado', ',', ' feito', ' burro', ' estava', ' à', ' procura', ' por', ' torrents', ' e', ' nem', ' me', ' lembrei', ' disso', '...', ' O', ' meu', ' google', ' foo', ' começou', ' mal', ' o', ' ano', '!', ' '] False\n",
      "['http', '://', 'i', '.imgur', '.com', '/dlJZ', '7', 'IT', '.jpg', ' <|', 'newlinechar', '|>', ' ', ' <|', 'newlinechar', '|>', ' Add', ':', ' [', 'fixed', '](', 'http', '://', 'i', '.imgur', '.com', '/Rrc', '7', 'lMB', '.jpg', ')', ' Did', ' you', ' make', ' his', ' hands', ' smaller', '?'] False\n",
      "['Seller', ' hasn', \"'t\", ' replied', ' at', ' all', ' to', ' emails', ' which', ' I', ' had', ' to', ' send', ' by', ' replying', ' to', ' my', ' order', ' confirmation', ' because', ' the', ' email', ' provided', ' on', ' the', ' site', ' doesn', \"'t\", ' work', '.', ' The', ' charge', ' is', ' pending', ' right', ' now', ' on', ' my', ' card', ' if', ' it', ' goes', ' through', ' I', ' will', ' just', ' be', ' disputing', ' it', ' with', ' my', ' bank', '.', ' I', ' talked', ' to', ' my', ' local', ' FFL', ' they', ' also', ' found', ' it', ' pretty', ' suspect', ' considering', ' at', ' this', ' price', ' point', ' it', \"'s\", ' probably', ' selling', ' at', ' a', ' loss', ' to', ' the', ' seller', '.', ' ', ' Sorry', ' to', ' hear', ' about', ' your', ' issues', '.', ' Thanks', ' for', ' the', ' warning', ' though', '.', ' '] False\n",
      "['I', ' feel', ' like', ' Funhaus', ' has', ' really', ' stepped', ' it', ' up', ' lately', ',', ' the', ' strip', ' club', ' video', ' and', ' this', ' video', ' were', ' classic', '.', ' It', ' makes', ' the', ' video', ' better', ' when', ' the', ' gang', ' actually', ' has', ' fun', ' playing', ' the', ' games', '.', ' For', ' me', ' it', ' just', ' adds', ' another', ' level', ' of', ' enjoyment'] False\n",
      "['A', ' lot', ' of', ' stores', ' don', \"'t\", ' thinking', ' they', ' are', ' liable', ' if', ' somebody', ' gets', ' sick', ' when', ' in', ' fact', ' they', ' are', ' completely', ' protected', ' in', ' all', ' ', '50', ' states', ' so', ' there', ' is', ' literally', ' no', ' risk', ' for', ' them', '.', ' Damn', ' shame', '.', ' If', ' you', ' can', ' prove', ' this', ' concisely', ' it', ' is', ' a', ' front', '-page', ' worthy', ' TIL', ' post', '...'] False\n",
      "['My', ' wife', ' wants', ' some', ' too', '.', ' I', ' might', ' have', ' to', ' add', ' them', ' at', ' some', ' point', '.', ' Good', ' to', ' know', ' they', ' work', ' :)', ' Yeah', ',', ' definitely', '!', ' I', ' really', ' like', ' them', ' so', ' far', '!'] False\n",
      "['People', ' go', ' beserk', ' over', ' the', ' pool', '.', ' We', ' have', ' similar', ' issues', ' where', ' we', ' accidentally', ' overbook', ' poolside', ' rooms', ' and', ' let', ' me', ' tell', ' you', ',', ' telling', ' a', ' birthday', ' mom', ' that', ' we', ' moved', ' them', ' down', ' the', ' hall', ' ', '20', ' feet', ' from', ' the', ' pool', ' is', ' like', ' holding', ' a', ' grenade', ' for', ' too', ' long', '.', ' In', ' one', ' particular', ' case', ' we', ' had', ' one', ' poolside', ' room', ' left', ' but', ' instead', ' of', ' taking', ' connecting', ' rooms', ' down', ' the', ' hall', ',', ' they', ' cancelled', ' one', ' of', ' their', ' rooms', ' to', ' remain', ' poolside', ' and', ' made', ' the', ' birthday', ' girl', ' pick', ' which', ' friends', ' could', ' stay', ' the', ' night', ' and', ' which', ' ones', ' couldn', \"'t\", '.', ' You', ' would', ' have', ' thought', ' the', ' pool', ' had', ' healing', ' powers', ' or', ' something', '.', ' At', ' this', ' point', ',', ' I', \"'m\", ' starting', ' to', ' wonder', ' if', ' our', ' pool', ' is', ' actually', ' *', 'De', ' Lago', ' de', ' Luna', '.*'] False\n",
      "['Yes', ',', ' I', \"'ll\", ' share', ' it', ',', ' with', ' you', ' and', ' anyone', ' else', ' who', ' is', ' interested', '.', ' ', ' you', ' are', ' on', ' the', ' subreddit', ' full', ' of', ' people', ' that', ' would', ' be', ' just', ' post', ' a', ' summary', ' of', ' everything', ' you', ' want'] False\n",
      "['No', ' benefit', ' but', ' no', ' downside', ' either', ',', ' it', \"'s\", ' just', ' not', ' a', ' concern', ',', ' and', ' it', ' so', ' happens', ' that', ' the', ' hot', ' fun', ' intelligent', ' sexually', ' adventurous', ' women', ' tend', ' to', ' have', ' a', ' decent', ' number', ' under', ' their', ' belts', ' yeah', ',', ' there', \"'s\", ' nothing', ' wrong', ' with', ' chaste', ' women', ',', ' but', ' they', \"'re\", ' not', ' usually', ' the', ' hot', ' and', ' fun', ' type', ' that', ' this', ' person', ' has', ' in', ' mind', ',', ' IME', '.', ' '] False\n",
      "['Awesome', ',', ' tell', ' her', ' she', ' should', ' do', ' more', '.', ' ', ' I', \"'ll\", ' let', ' her', ' know', ' :)'] False\n",
      "['Not', ' even', ' ', '8', ' minutes', ' and', ' it', ' has', ' been', ' removed', '.', ' Anybody', ' rehost', '?', ' Don', \"'t\", ' let', ' the', ' blackout', ' happen', ' here', ':', ' https', '://', 'twitter', '.com', '/Antepcanavari', '_/', 'status', '/', '815', '357', '896', '406', '011', '904'] False\n",
      "['Ya', ' it', \"'s\", ' ', '30', '%', ' max', ' health', ' shield', ' for', ' <|', 'newlinechar', '|>', ' ', '3', ' sec', '.', ' ', ' That', ' decays', '...', ' that', \"'s\", ' the', ' really', ' shitty', ' bit', '.'] False\n",
      "['What', ' exactly', ' you', ' would', ' mean', ' with', ' drunk', '?', ' I', ' mean', ' I', ' drank', ' ', '2', ' glasses', ' of', ' wine', ' and', ' was', ' able', ' play', ' accordingly', ',', ' though', ' I', ' felt', ' that', ' I', ' played', ' worse', ' than', ' usualy', ' and', ' I', ' still', ' got', ' a', ' ', '16', '/', '3', ' game', '.', ' heyyy', ' the', ' guy', ' from', ' the', ' cassiopeia', ' lv', '1', ' power', ' spike', '!'] False\n",
      "['What', ' mod', ' is', ' that', '?', ' I', ' haven', \"'t\", ' played', ' for', ' a', ' month', ' so', ' it', ' might', ' be', ' just', ' how', ' the', ' game', ' is', '.', ' Vivid', ' Weathers', ' I', ' think'] False\n",
      "['PEDOPHILIC', ' DEATH', ' CULT', ' #', 'THAT', \"'S\", ' THE', ' SPIRIT', '.'] False\n",
      "['Standing', ' on', ' my', ' feet', ' all', ' damn', ' day', ' tryin', \"'a\", ' make', ' this', ' thing', ' right', ' And', ' having', ' one', ' of', ' my', ' co', '-workers', ' say', ' Yo', ' you', ' look', ' just', ' like'] False\n",
      "['Try', ' to', ' shoot', ' a', ' bullet', ' in', ' your', ' face', ' and', ' see', ' if', ' you', ' die', ' in', ' ', '1', ' bullet', '.', ' brb'] False\n",
      "['Great', ' now', ' Plague', ' Inc', '.', ' is', ' leaking', '.', ' That', \"'s\", ' like', ' saying', ' the', ' Internet', ' is', ' leaking', '.'] False\n",
      "['You', ' can', ' probably', ' fit', ' a', ' lot', ',', ' but', ' since', ' they', ' will', ' tend', ' to', ' lay', ' flat', ' they', ' may', ' cut', ' into', ' the', ' sides', ' of', ' your', ' hole', ' and', ' hurt', '.', ' I', \"'d\", ' start', ' with', ' no', ' more', ' than', ' ', '4', ' and', ' see', ' how', ' that', ' goes', '.', ' I', ' stretched', ' my', ' septum', ' up', ' to', ' ', '0', 'g', ' and', ' wear', ' ', '5', ' ', '14', 'g', ' rings', ' in', ' mine', ' and', ' I', ' know', ' that', ' I', ' can', ' fit', ' many', ' more', ',', ' ', ' but', ' I', ' think', ' it', ' would', ' start', ' to', ' get', ' uncomfortable', '.', ' ', ' And', ' I', ' like', ' the', ' option', ' of', ' wearing', ' clickers', ' and', ' other', ' rings', ' alongside', ' at', ' times', '.', ' I', ' got', ' ', '6', ' in', ' there', ' and', ' it', ' just', ' didn', \"'t\", ' look', ' good', ' with', ' that', ' many', ' stacked', '.', ' I', ' think', ' I', \"'m\", ' gonna', ' do', ' a', ' ', '10', ' and', ' ', '2', ' ', '12', 's', ' if', ' I', ' try', ' for', ' that', ' look', '.'] False\n",
      "['Where', ' did', ' you', ' camp', ' for', ' this', ' view', '?', ' From', ' a', ' friend', \"'s\", ' St', ' Kilda', ' apartment', ' with', ' a', ' zoom', ' lens', '.', ' Very', ' lucky', ' views', '.'] False\n",
      "['I', \"'d\", ' rather', ' have', ' Titus', ' retire', ' him', ' #', 'TitusBrand'] False\n",
      "['remember', ' when', ' he', ' shut', ' you', ' guys', ' out', ' in', ' front', ' of', ' ', '50', ',', '000', ' people', ' live', ' outdoors', ' last', ' year', '?', ' <|', 'newlinechar', '|>', ' ', ' <|', 'newlinechar', '|>', ' edit', ':', ' my', ' bad', ',', ' he', ' let', ' in', ' ', '1', ' goal', ' on', ' over', ' ', '30', ' shots', '.', ' Oooh', '!', ' I', ' remember', '!', ' Still', ' have', ' that', ' game', ' on', ' my', ' DVR'] False\n",
      "['You', \"'re\", ' right', '.', ' I', ' was', ' inarticulate', ' and', ' did', ' a', ' poor', ' job', ' developing', ' my', ' thought', '.', ' I', ' meant', ' that', ' whole', ' thing', ' within', ' the', ' context', ' of', ' plunking', ' ', '100', ' million', ' promoting', ' Amanda', '.', ' Clearly', ',', ' plunking', ' ', '100', ' million', ' on', ' Amanda', ' in', ' promotions', ' is', ' a', ' bad', ' idea', ',', ' but', ' casually', ' dropping', ' an', ' idea', ' isn', \"'t\", '.', ' <|', 'newlinechar', '|>', ' ', ' <|', 'newlinechar', '|>', ' EDIT', ':', ' I', \"'m\", ' just', ' going', ' to', ' leave', ' it', ' so', ' the', ' replies', ' make', ' sense', '.', ' Please', ' don', \"'t\", ' pre', '-sell', ' that', ' we', \"'re\", ' dicks', '.', ' (', ' ͡', 'ᵔ', ' ͜', 'ʖ', ' ͡', 'ᵔ', ' )'] False\n",
      "['But', ' Harambe', ' was', ' too', ' volatile', ' a', ' meme', ' to', ' deservy', ' MOTY', ' ', '201', '6', '.', ' ', ' <|', 'newlinechar', '|>', ' ', ' <|', 'newlinechar', '|>', ' The', ' Meme', ' Scholars', ' of', ' the', ' future', ' will', ' most', ' likely', ' recognize', ' Harambe', ' for', ' the', ' good', ' it', ' has', ' done', ',', ' in', ' the', ' spread', ' of', ' Meme', ' Culture', ',', ' but', ' they', ' will', ' also', ' agree', ' that', ' yes', ',', ' Robbie', ' Rotten', ' deserves', ' the', ' MOTY', ' ', '201', '6', ' in', ' recognition', ' for', ' its', ' might', ' as', ' well', ' as', ' its', ' role', ' in', ' saving', ' a', ' man', \"'s\", ' life', '.', ' ', ' <|', 'newlinechar', '|>', ' ', ' <|', 'newlinechar', '|>', ' TL', ';DR', ' Harambe', ' was', ' good', ',', ' but', ' Robbie', ' Rotten', ' was', ' good', ' AND', ' saved', ' a', ' man', \"'s\", ' life', '.', ' Harambe', ' saved', ' a', ' child', \"'s\", ' life', '.', ' '] False\n"
     ]
    },
    {
     "data": {
      "text/plain": [
       "0     None\n",
       "1     None\n",
       "2     None\n",
       "3     None\n",
       "4     None\n",
       "5     None\n",
       "6     None\n",
       "7     None\n",
       "8     None\n",
       "9     None\n",
       "10    None\n",
       "11    None\n",
       "12    None\n",
       "13    None\n",
       "14    None\n",
       "15    None\n",
       "16    None\n",
       "17    None\n",
       "18    None\n",
       "19    None\n",
       "20    None\n",
       "21    None\n",
       "22    None\n",
       "23    None\n",
       "24    None\n",
       "25    None\n",
       "26    None\n",
       "27    None\n",
       "28    None\n",
       "29    None\n",
       "30    None\n",
       "31    None\n",
       "32    None\n",
       "33    None\n",
       "34    None\n",
       "35    None\n",
       "36    None\n",
       "37    None\n",
       "38    None\n",
       "39    None\n",
       "40    None\n",
       "41    None\n",
       "42    None\n",
       "43    None\n",
       "44    None\n",
       "45    None\n",
       "46    None\n",
       "47    None\n",
       "48    None\n",
       "49    None\n",
       "50    None\n",
       "51    None\n",
       "52    None\n",
       "53    None\n",
       "54    None\n",
       "55    None\n",
       "56    None\n",
       "57    None\n",
       "58    None\n",
       "59    None\n",
       "60    None\n",
       "61    None\n",
       "62    None\n",
       "63    None\n",
       "64    None\n",
       "65    None\n",
       "66    None\n",
       "67    None\n",
       "68    None\n",
       "69    None\n",
       "70    None\n",
       "71    None\n",
       "72    None\n",
       "73    None\n",
       "74    None\n",
       "75    None\n",
       "76    None\n",
       "77    None\n",
       "78    None\n",
       "79    None\n",
       "80    None\n",
       "81    None\n",
       "82    None\n",
       "83    None\n",
       "84    None\n",
       "85    None\n",
       "86    None\n",
       "87    None\n",
       "88    None\n",
       "89    None\n",
       "90    None\n",
       "91    None\n",
       "92    None\n",
       "93    None\n",
       "94    None\n",
       "95    None\n",
       "96    None\n",
       "97    None\n",
       "98    None\n",
       "99    None\n",
       "dtype: object"
      ]
     },
     "execution_count": 23,
     "metadata": {},
     "output_type": "execute_result"
    }
   ],
   "source": [
    "def d_func(x, test = True):\n",
    "    print(x[0], test)\n",
    "dummy_1.apply(d_func, test = False, axis = 1)"
   ]
  },
  {
   "cell_type": "code",
   "execution_count": null,
   "id": "ea294709-0542-43d5-9e95-62e71fd2f4ba",
   "metadata": {},
   "outputs": [],
   "source": []
  },
  {
   "cell_type": "code",
   "execution_count": 90,
   "id": "c567ec2d-4a7f-4a21-97d3-edd096d70f25",
   "metadata": {},
   "outputs": [],
   "source": [
    "import pandas as pd\n",
    "import numpy as np"
   ]
  },
  {
   "cell_type": "code",
   "execution_count": 87,
   "id": "afea4f18-1798-428d-a157-41bcea131df4",
   "metadata": {},
   "outputs": [],
   "source": [
    "df = pd.read_csv(\"dummy.csv\", header = None, encoding = \"utf-8\")"
   ]
  },
  {
   "cell_type": "code",
   "execution_count": 88,
   "id": "779f6ad1-574e-4855-aece-4fa8a13a19da",
   "metadata": {},
   "outputs": [
    {
     "data": {
      "text/html": [
       "<div>\n",
       "<style scoped>\n",
       "    .dataframe tbody tr th:only-of-type {\n",
       "        vertical-align: middle;\n",
       "    }\n",
       "\n",
       "    .dataframe tbody tr th {\n",
       "        vertical-align: top;\n",
       "    }\n",
       "\n",
       "    .dataframe thead th {\n",
       "        text-align: right;\n",
       "    }\n",
       "</style>\n",
       "<table border=\"1\" class=\"dataframe\">\n",
       "  <thead>\n",
       "    <tr style=\"text-align: right;\">\n",
       "      <th></th>\n",
       "      <th>0</th>\n",
       "      <th>1</th>\n",
       "      <th>2</th>\n",
       "      <th>3</th>\n",
       "    </tr>\n",
       "  </thead>\n",
       "  <tbody>\n",
       "    <tr>\n",
       "      <th>0</th>\n",
       "      <td>1</td>\n",
       "      <td>2</td>\n",
       "      <td>3</td>\n",
       "      <td>4</td>\n",
       "    </tr>\n",
       "    <tr>\n",
       "      <th>1</th>\n",
       "      <td>2</td>\n",
       "      <td>3</td>\n",
       "      <td>4</td>\n",
       "      <td>5</td>\n",
       "    </tr>\n",
       "    <tr>\n",
       "      <th>2</th>\n",
       "      <td>2</td>\n",
       "      <td>3</td>\n",
       "      <td>4</td>\n",
       "      <td>6</td>\n",
       "    </tr>\n",
       "    <tr>\n",
       "      <th>3</th>\n",
       "      <td>3</td>\n",
       "      <td>4</td>\n",
       "      <td>5</td>\n",
       "      <td>6</td>\n",
       "    </tr>\n",
       "    <tr>\n",
       "      <th>4</th>\n",
       "      <td>3</td>\n",
       "      <td>4</td>\n",
       "      <td>5</td>\n",
       "      <td>6</td>\n",
       "    </tr>\n",
       "  </tbody>\n",
       "</table>\n",
       "</div>"
      ],
      "text/plain": [
       "   0  1  2  3\n",
       "0  1  2  3  4\n",
       "1  2  3  4  5\n",
       "2  2  3  4  6\n",
       "3  3  4  5  6\n",
       "4  3  4  5  6"
      ]
     },
     "execution_count": 88,
     "metadata": {},
     "output_type": "execute_result"
    }
   ],
   "source": [
    "df"
   ]
  },
  {
   "cell_type": "code",
   "execution_count": 93,
   "id": "1837d1c3-132a-498c-9f9f-5104277c6a5d",
   "metadata": {},
   "outputs": [
    {
     "data": {
      "text/html": [
       "<div>\n",
       "<style scoped>\n",
       "    .dataframe tbody tr th:only-of-type {\n",
       "        vertical-align: middle;\n",
       "    }\n",
       "\n",
       "    .dataframe tbody tr th {\n",
       "        vertical-align: top;\n",
       "    }\n",
       "\n",
       "    .dataframe thead th {\n",
       "        text-align: right;\n",
       "    }\n",
       "</style>\n",
       "<table border=\"1\" class=\"dataframe\">\n",
       "  <thead>\n",
       "    <tr style=\"text-align: right;\">\n",
       "      <th></th>\n",
       "      <th>mean</th>\n",
       "    </tr>\n",
       "  </thead>\n",
       "  <tbody>\n",
       "    <tr>\n",
       "      <th>0</th>\n",
       "      <td>[2.5, 2.5]</td>\n",
       "    </tr>\n",
       "    <tr>\n",
       "      <th>1</th>\n",
       "      <td>[3.5, 3.5]</td>\n",
       "    </tr>\n",
       "    <tr>\n",
       "      <th>2</th>\n",
       "      <td>[3.75, 3.75]</td>\n",
       "    </tr>\n",
       "    <tr>\n",
       "      <th>3</th>\n",
       "      <td>[4.5, 4.5]</td>\n",
       "    </tr>\n",
       "    <tr>\n",
       "      <th>4</th>\n",
       "      <td>[4.5, 4.5]</td>\n",
       "    </tr>\n",
       "  </tbody>\n",
       "</table>\n",
       "</div>"
      ],
      "text/plain": [
       "           mean\n",
       "0    [2.5, 2.5]\n",
       "1    [3.5, 3.5]\n",
       "2  [3.75, 3.75]\n",
       "3    [4.5, 4.5]\n",
       "4    [4.5, 4.5]"
      ]
     },
     "execution_count": 93,
     "metadata": {},
     "output_type": "execute_result"
    }
   ],
   "source": [
    "def func(row):\n",
    "    mean = np.mean(row.values)\n",
    "    return pd.Series([[mean, mean]], index = [\"mean\"])\n",
    "    \n",
    "df.apply(func, axis = 1)"
   ]
  },
  {
   "cell_type": "code",
   "execution_count": 24,
   "id": "a0d55c22-f259-4cb6-9b38-52c45bd85f29",
   "metadata": {},
   "outputs": [
    {
     "ename": "ImportError",
     "evalue": "cannot import name 'RegexTokenizerLarge' from 'nmt.tokenizer' (E:\\class\\Projects\\chatbot\\nmt\\tokenizer\\__init__.py)",
     "output_type": "error",
     "traceback": [
      "\u001b[1;31m---------------------------------------------------------------------------\u001b[0m",
      "\u001b[1;31mImportError\u001b[0m                               Traceback (most recent call last)",
      "Cell \u001b[1;32mIn[24], line 1\u001b[0m\n\u001b[1;32m----> 1\u001b[0m \u001b[38;5;28;01mfrom\u001b[39;00m \u001b[38;5;21;01mnmt\u001b[39;00m\u001b[38;5;21;01m.\u001b[39;00m\u001b[38;5;21;01mtokenizer\u001b[39;00m \u001b[38;5;28;01mimport\u001b[39;00m RegexTokenizerLarge\n",
      "\u001b[1;31mImportError\u001b[0m: cannot import name 'RegexTokenizerLarge' from 'nmt.tokenizer' (E:\\class\\Projects\\chatbot\\nmt\\tokenizer\\__init__.py)"
     ]
    }
   ],
   "source": [
    "from nmt.tokenizer import RegexTokenizerLarge"
   ]
  },
  {
   "cell_type": "code",
   "execution_count": null,
   "id": "1257b89a-695a-47ef-9f5b-3523b1bd6251",
   "metadata": {},
   "outputs": [],
   "source": []
  }
 ],
 "metadata": {
  "kernelspec": {
   "display_name": "Python 3 (ipykernel)",
   "language": "python",
   "name": "python3"
  },
  "language_info": {
   "codemirror_mode": {
    "name": "ipython",
    "version": 3
   },
   "file_extension": ".py",
   "mimetype": "text/x-python",
   "name": "python",
   "nbconvert_exporter": "python",
   "pygments_lexer": "ipython3",
   "version": "3.10.1"
  }
 },
 "nbformat": 4,
 "nbformat_minor": 5
}
