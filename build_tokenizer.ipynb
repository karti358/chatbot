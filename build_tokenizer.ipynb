{
 "cells": [
  {
   "cell_type": "code",
   "execution_count": 1,
   "id": "df747ed1-6ee8-4828-9080-45c17f75bde5",
   "metadata": {},
   "outputs": [],
   "source": [
    "from nmt.tokenizer import RegexTokenizer"
   ]
  },
  {
   "cell_type": "code",
   "execution_count": 2,
   "id": "b03aca3f-8c5e-4b85-89b8-dfd8944edd04",
   "metadata": {},
   "outputs": [],
   "source": [
    "tokenizer = RegexTokenizer(vocab_size = 15000)"
   ]
  },
  {
   "cell_type": "code",
   "execution_count": 3,
   "id": "47cc58d6-2ff6-4709-acd9-ccf8fba7c597",
   "metadata": {},
   "outputs": [
    {
     "name": "stdout",
     "output_type": "stream",
     "text": [
      "Processing--> E:/Class/Projects/chatbot/data/training_data/RC_2017-01.txt\n",
      "Done processing--> E:/Class/Projects/chatbot/data/training_data/RC_2017-01.txt\n",
      "Processing--> E:/Class/Projects/chatbot/data/training_data/RC_2017-02.txt\n",
      "Done processing--> E:/Class/Projects/chatbot/data/training_data/RC_2017-02.txt\n",
      "Processing--> E:/Class/Projects/chatbot/data/training_data/RC_2017-03.txt\n",
      "Done processing--> E:/Class/Projects/chatbot/data/training_data/RC_2017-03.txt\n",
      "Writing the chunk ids\n",
      "Done writing chunk ids\n"
     ]
    }
   ],
   "source": [
    "tokenizer.chunkify([\n",
    "    \"E:/Class/Projects/chatbot/data/training_data/RC_2017-01.txt\",\n",
    "    \"E:/Class/Projects/chatbot/data/training_data/RC_2017-02.txt\",\n",
    "    \"E:/Class/Projects/chatbot/data/training_data/RC_2017-03.txt\"\n",
    "])"
   ]
  },
  {
   "cell_type": "code",
   "execution_count": null,
   "id": "59994fcc-8dc5-409d-b4b0-f08384d82e58",
   "metadata": {},
   "outputs": [],
   "source": []
  }
 ],
 "metadata": {
  "kernelspec": {
   "display_name": "Python 3 (ipykernel)",
   "language": "python",
   "name": "python3"
  },
  "language_info": {
   "codemirror_mode": {
    "name": "ipython",
    "version": 3
   },
   "file_extension": ".py",
   "mimetype": "text/x-python",
   "name": "python",
   "nbconvert_exporter": "python",
   "pygments_lexer": "ipython3",
   "version": "3.10.1"
  }
 },
 "nbformat": 4,
 "nbformat_minor": 5
}
